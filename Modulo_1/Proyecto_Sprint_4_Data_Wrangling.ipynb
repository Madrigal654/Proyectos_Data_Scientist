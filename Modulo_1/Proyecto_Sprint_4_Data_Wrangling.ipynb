{
 "cells": [
  {
   "cell_type": "markdown",
   "id": "3Xg_RQfnafXz",
   "metadata": {
    "id": "3Xg_RQfnafXz"
   },
   "source": [
    "# ¡Llena ese carrito!"
   ]
  },
  {
   "cell_type": "markdown",
   "id": "mhIvmmkW414q",
   "metadata": {
    "id": "mhIvmmkW414q"
   },
   "source": [
    "# Introducción\n",
    "\n",
    "Instacart es una plataforma de entregas de comestibles donde la clientela puede registrar un pedido y hacer que se lo entreguen, similar a Uber Eats y Door Dash.\n",
    "El conjunto de datos que te hemos proporcionado tiene modificaciones del original. Redujimos el tamaño del conjunto para que tus cálculos se hicieran más rápido e introdujimos valores ausentes y duplicados. Tuvimos cuidado de conservar las distribuciones de los datos originales cuando hicimos los cambios.\n",
    "\n",
    "Debes completar tres pasos. Para cada uno de ellos, escribe una breve introducción que refleje con claridad cómo pretendes resolver cada paso, y escribe párrafos explicatorios que justifiquen tus decisiones al tiempo que avanzas en tu solución.  También escribe una conclusión que resuma tus hallazgos y elecciones.\n"
   ]
  },
  {
   "cell_type": "markdown",
   "id": "3MbyzpOQZ5Or",
   "metadata": {
    "id": "3MbyzpOQZ5Or"
   },
   "source": [
    "## Diccionario de datos\n",
    "\n",
    "Hay cinco tablas en el conjunto de datos, y tendrás que usarlas todas para hacer el preprocesamiento de datos y el análisis exploratorio de datos. A continuación se muestra un diccionario de datos que enumera las columnas de cada tabla y describe los datos que contienen.\n",
    "\n",
    "- `instacart_orders.csv`: cada fila corresponde a un pedido en la aplicación Instacart.\n",
    "    - `'order_id'`: número de ID que identifica de manera única cada pedido.\n",
    "    - `'user_id'`: número de ID que identifica de manera única la cuenta de cada cliente.\n",
    "    - `'order_number'`: el número de veces que este cliente ha hecho un pedido.\n",
    "    - `'order_dow'`: día de la semana en que se hizo el pedido (0 si es domingo).\n",
    "    - `'order_hour_of_day'`: hora del día en que se hizo el pedido.\n",
    "    - `'days_since_prior_order'`: número de días transcurridos desde que este cliente hizo su pedido anterior.\n",
    "- `products.csv`: cada fila corresponde a un producto único que pueden comprar los clientes.\n",
    "    - `'product_id'`: número ID que identifica de manera única cada producto.\n",
    "    - `'product_name'`: nombre del producto.\n",
    "    - `'aisle_id'`: número ID que identifica de manera única cada categoría de pasillo de víveres.\n",
    "    - `'department_id'`: número ID que identifica de manera única cada departamento de víveres.\n",
    "- `order_products.csv`: cada fila corresponde a un artículo pedido en un pedido.\n",
    "    - `'order_id'`: número de ID que identifica de manera única cada pedido.\n",
    "    - `'product_id'`: número ID que identifica de manera única cada producto.\n",
    "    - `'add_to_cart_order'`: el orden secuencial en el que se añadió cada artículo en el carrito.\n",
    "    - `'reordered'`: 0 si el cliente nunca ha pedido este producto antes, 1 si lo ha pedido.\n",
    "- `aisles.csv`\n",
    "    - `'aisle_id'`: número ID que identifica de manera única cada categoría de pasillo de víveres.\n",
    "    - `'aisle'`: nombre del pasillo.\n",
    "- `departments.csv`\n",
    "    - `'department_id'`: número ID que identifica de manera única cada departamento de víveres.\n",
    "    - `'department'`: nombre del departamento."
   ]
  },
  {
   "cell_type": "markdown",
   "id": "n3Ha_cNSZ8lK",
   "metadata": {
    "id": "n3Ha_cNSZ8lK"
   },
   "source": [
    "# Paso 1. Descripción de los datos\n",
    "\n",
    "Lee los archivos de datos (`/datasets/instacart_orders.csv`, `/datasets/products.csv`, `/datasets/aisles.csv`, `/datasets/departments.csv` y `/datasets/order_products.csv`) con `pd.read_csv()` usando los parámetros adecuados para leer los datos correctamente. Verifica la información para cada DataFrame creado.\n"
   ]
  },
  {
   "cell_type": "markdown",
   "id": "OmlQPLlyaAfR",
   "metadata": {
    "id": "OmlQPLlyaAfR"
   },
   "source": [
    "## Plan de solución\n",
    "\n",
    "Escribe aquí tu plan de solución para el Paso 1. Descripción de los datos."
   ]
  },
  {
   "cell_type": "code",
   "execution_count": 1,
   "id": "fbf1adab",
   "metadata": {
    "id": "fbf1adab"
   },
   "outputs": [],
   "source": [
    "# importar librerías\n",
    "import pandas as pd\n",
    "import numpy as np\n",
    "from matplotlib import pyplot as plt"
   ]
  },
  {
   "cell_type": "code",
   "execution_count": 2,
   "id": "ad36396d",
   "metadata": {
    "id": "ad36396d"
   },
   "outputs": [],
   "source": [
    "# leer conjuntos de datos en los DataFrames\n",
    "orders = pd.read_csv('datasets/instacart_orders.csv',sep=';')\n",
    "products = pd.read_csv('datasets/products.csv',sep=';')\n",
    "aisles = pd.read_csv('C:datasets/aisles.csv',sep=';')\n",
    "departments = pd.read_csv('datasets/departments.csv',sep=';')\n",
    "order_products = pd.read_csv('datasets/order_products.csv',sep=';')\n",
    "                               "
   ]
  },
  {
   "cell_type": "code",
   "execution_count": 3,
   "id": "ad6a1efa",
   "metadata": {
    "id": "ad6a1efa"
   },
   "outputs": [
    {
     "name": "stdout",
     "output_type": "stream",
     "text": [
      "<class 'pandas.core.frame.DataFrame'>\n",
      "RangeIndex: 478967 entries, 0 to 478966\n",
      "Data columns (total 6 columns):\n",
      " #   Column                  Non-Null Count   Dtype  \n",
      "---  ------                  --------------   -----  \n",
      " 0   order_id                478967 non-null  int64  \n",
      " 1   user_id                 478967 non-null  int64  \n",
      " 2   order_number            478967 non-null  int64  \n",
      " 3   order_dow               478967 non-null  int64  \n",
      " 4   order_hour_of_day       478967 non-null  int64  \n",
      " 5   days_since_prior_order  450148 non-null  float64\n",
      "dtypes: float64(1), int64(5)\n",
      "memory usage: 21.9 MB\n",
      "\n",
      "Valores nulos days_since_prior_order: 28819\n"
     ]
    }
   ],
   "source": [
    "# mostrar información del DataFrame instacart_orders\n",
    "orders.info(show_counts = True) # Mostrar informacion sobre el DF\n",
    "\n",
    "orders_null = orders['days_since_prior_order'].isnull().sum()# Numero de nulos en variable \"days_since_prior_order\"\n",
    "print()\n",
    "print(f'Valores nulos days_since_prior_order: {orders_null}') "
   ]
  },
  {
   "cell_type": "markdown",
   "id": "316be4e8-20e3-4d64-b0c3-42794ea0661f",
   "metadata": {},
   "source": [
    "### orders Table\n",
    "La variable \"days_since_prior_order\" es float.\n",
    "- Cuenta con un total de 28819 valores nulos\n",
    "  \n",
    "Las demás variables aparentan estar bien, son de tipo int como deberían de ser por su naturaleza y no cuentan con nulos"
   ]
  },
  {
   "cell_type": "code",
   "execution_count": 4,
   "id": "5130e05e",
   "metadata": {
    "id": "5130e05e"
   },
   "outputs": [
    {
     "name": "stdout",
     "output_type": "stream",
     "text": [
      "<class 'pandas.core.frame.DataFrame'>\n",
      "RangeIndex: 49694 entries, 0 to 49693\n",
      "Data columns (total 4 columns):\n",
      " #   Column         Non-Null Count  Dtype \n",
      "---  ------         --------------  ----- \n",
      " 0   product_id     49694 non-null  int64 \n",
      " 1   product_name   48436 non-null  object\n",
      " 2   aisle_id       49694 non-null  int64 \n",
      " 3   department_id  49694 non-null  int64 \n",
      "dtypes: int64(3), object(1)\n",
      "memory usage: 1.5+ MB\n",
      "\n",
      "Valores nulos product_name: 1258,\n",
      "Productos unicos: 48436\n"
     ]
    }
   ],
   "source": [
    "# mostrar información del DataFrame products\n",
    "products.info()\n",
    "\n",
    "product_null = products['product_name'].isnull().sum()# Numero de nulos en variable \"product_name\"\n",
    "nunique_products = products['product_name'].nunique()# Numero de valores unicos de la variable \"product_name\"\n",
    "print()\n",
    "print(f'Valores nulos product_name: {product_null},\\nProductos unicos: {nunique_products}') \n",
    "\n"
   ]
  },
  {
   "cell_type": "markdown",
   "id": "c479b007-47bb-44bc-8cbf-200a3dd2b3c9",
   "metadata": {},
   "source": [
    "### product Table\n",
    "La variable product_name es de tipo object(string)\n",
    "- Cuenta con 1258 valores nulos\n",
    "- No parece haber duplicados explícitos, ya que el número de registros es igual al número de valores únicos\n",
    "  \n",
    "En las demás variables no hay valores nulos y las tres cuentan con tipo de dato int lo cual es correcto"
   ]
  },
  {
   "cell_type": "code",
   "execution_count": 5,
   "id": "d8370c05",
   "metadata": {
    "id": "d8370c05"
   },
   "outputs": [
    {
     "name": "stdout",
     "output_type": "stream",
     "text": [
      "<class 'pandas.core.frame.DataFrame'>\n",
      "RangeIndex: 134 entries, 0 to 133\n",
      "Data columns (total 2 columns):\n",
      " #   Column    Non-Null Count  Dtype \n",
      "---  ------    --------------  ----- \n",
      " 0   aisle_id  134 non-null    int64 \n",
      " 1   aisle     134 non-null    object\n",
      "dtypes: int64(1), object(1)\n",
      "memory usage: 2.2+ KB\n",
      "\n",
      "Valores únicos en variable aisle: 134\n",
      "Valores únicos en variable aisle_id: 134\n"
     ]
    }
   ],
   "source": [
    "# mostrar información del DataFrame aisles\n",
    "aisles.info()\n",
    "nunique_aisles = aisles['aisle'].nunique() # Numero de valores unicos de la variable \"aisle\"\n",
    "nunique_aisles_id = aisles['aisle_id'].nunique() # Numero de valores unicos de la variable \"aisle_id\"\n",
    "print()\n",
    "print(f\"Valores únicos en variable aisle: {nunique_aisles}\\nValores únicos en variable aisle_id: {nunique_aisles_id}\")"
   ]
  },
  {
   "cell_type": "markdown",
   "id": "7212933c-3706-4317-bc9b-06baeb8d1248",
   "metadata": {},
   "source": [
    "### aisles Table\n",
    "El DF parece estar completo, no hay valores nulos ni duplicados explícitos y los tipos de datos son correctos"
   ]
  },
  {
   "cell_type": "code",
   "execution_count": 6,
   "id": "59e2090f",
   "metadata": {
    "id": "59e2090f"
   },
   "outputs": [
    {
     "name": "stdout",
     "output_type": "stream",
     "text": [
      "<class 'pandas.core.frame.DataFrame'>\n",
      "RangeIndex: 21 entries, 0 to 20\n",
      "Data columns (total 2 columns):\n",
      " #   Column         Non-Null Count  Dtype \n",
      "---  ------         --------------  ----- \n",
      " 0   department_id  21 non-null     int64 \n",
      " 1   department     21 non-null     object\n",
      "dtypes: int64(1), object(1)\n",
      "memory usage: 468.0+ bytes\n",
      "\n",
      "Valores únicos en variable aisle: 21\n",
      "Valores únicos en variable aisle_id: 21\n"
     ]
    }
   ],
   "source": [
    "# mostrar información del DataFrame departments\n",
    "departments.info()\n",
    "\n",
    "nunique_departments = departments['department'].nunique() # Numero de valores unicos de la variable \"department\"\n",
    "nunique_departments_id = departments['department_id'].nunique() # Numero de valores unicos de la variable \"department_id\"\n",
    "print()\n",
    "print(f\"Valores únicos en variable aisle: {nunique_departments}\\nValores únicos en variable aisle_id: {nunique_departments_id}\")\n"
   ]
  },
  {
   "cell_type": "markdown",
   "id": "daf9435d-b32c-4146-bc8d-f3cc34eac7e3",
   "metadata": {},
   "source": [
    "### departments Table\n",
    "El DF parece estar completo, no hay valores nulos ni duplicados explícitos y los tipos de datos son correctos"
   ]
  },
  {
   "cell_type": "code",
   "execution_count": 7,
   "id": "6fc81694",
   "metadata": {
    "id": "6fc81694"
   },
   "outputs": [
    {
     "name": "stdout",
     "output_type": "stream",
     "text": [
      "<class 'pandas.core.frame.DataFrame'>\n",
      "RangeIndex: 4545007 entries, 0 to 4545006\n",
      "Data columns (total 4 columns):\n",
      " #   Column             Non-Null Count    Dtype  \n",
      "---  ------             --------------    -----  \n",
      " 0   order_id           4545007 non-null  int64  \n",
      " 1   product_id         4545007 non-null  int64  \n",
      " 2   add_to_cart_order  4544171 non-null  float64\n",
      " 3   reordered          4545007 non-null  int64  \n",
      "dtypes: float64(1), int64(3)\n",
      "memory usage: 138.7 MB\n",
      "\n",
      "Valores nulos add_to_cart_order: 836\n"
     ]
    }
   ],
   "source": [
    "# mostrar información del DataFrame order_products\n",
    "order_products.info(show_counts = True)\n",
    "add_to_cart_order_null = order_products['add_to_cart_order'].isnull().sum()# Numero de nulos en variable \"add_to_cart_order\"\n",
    "print()\n",
    "print(f'Valores nulos add_to_cart_order: {add_to_cart_order_null}')"
   ]
  },
  {
   "cell_type": "markdown",
   "id": "82c0d60d-ddcd-4b71-9a57-a31c790980ce",
   "metadata": {},
   "source": [
    "### order_product Table\n",
    "La variable add_to_cart_order cuenta con 836 valores nulos"
   ]
  },
  {
   "cell_type": "markdown",
   "id": "t75BD19oaR5f",
   "metadata": {
    "id": "t75BD19oaR5f"
   },
   "source": [
    "## Conclusiones\n",
    "La mayor parte de las variables de los DF aparentan tener los tipos de datos correctos y sin nulos aparentemente, a excepción de las variables:\n",
    "\n",
    "La variable \"days_since_prior_order\" del DF \"orders\":\n",
    "- Cuenta con un total de 28819 valores nulos\n",
    "\n",
    "La variable \"product_name\" del DF \"products\"\n",
    "- Cuenta con 1258 valores nulos\n",
    "\n",
    "La variable \"add_to_cart_order\" del DF \"order_product\"\n",
    "- Cuenta con 836 valores nulos\n",
    "\n",
    "Se debe de revisar con detenimiento cada tabla para descubrir si están correctas"
   ]
  },
  {
   "cell_type": "markdown",
   "id": "8RJHqxVmaVsF",
   "metadata": {
    "id": "8RJHqxVmaVsF"
   },
   "source": [
    "# Paso 2. Preprocesamiento de los datos\n",
    "\n",
    "Preprocesa los datos de la siguiente manera:\n",
    "\n",
    "- Verifica y corrige los tipos de datos (por ejemplo, asegúrate de que las columnas de ID sean números enteros).\n",
    "- Identifica y completa los valores ausentes.\n",
    "- Identifica y elimina los valores duplicados.\n",
    "\n",
    "Asegúrate de explicar qué tipos de valores ausentes y duplicados encontraste, cómo los completaste o eliminaste y por qué usaste esos métodos. ¿Por qué crees que estos valores ausentes y duplicados pueden haber estado presentes en el conjunto de datos?"
   ]
  },
  {
   "cell_type": "markdown",
   "id": "p6poABZQaZYb",
   "metadata": {
    "id": "p6poABZQaZYb"
   },
   "source": [
    "## Plan de solución\n",
    "\n",
    "Escribe aquí tu plan para el Paso 2. Preprocesamiento de los datos.\n",
    "1. Revisar filas duplicadas\n",
    "2. Revisar duplicados no explícitos\n",
    "3. Eliminar o unificar estos duplicados\n",
    "4. Revisar nulos\n",
    "5. Sustituir o eliminar nulos\n",
    "6. verificar integridad de las tablas finales"
   ]
  },
  {
   "cell_type": "markdown",
   "id": "07357848-dc64-4156-9cc3-01ff4365226d",
   "metadata": {
    "id": "07357848-dc64-4156-9cc3-01ff4365226d"
   },
   "source": [
    "## Encuentra y elimina los valores duplicados (y describe cómo tomaste tus decisiones)."
   ]
  },
  {
   "cell_type": "code",
   "execution_count": 8,
   "id": "25e16cd7-c7c9-4e2e-9987-3e55f7611489",
   "metadata": {},
   "outputs": [],
   "source": [
    "\n",
    "def eliminar_duplicados(df):\n",
    "    duplicates = df.duplicated().sum()\n",
    "    if duplicates >0:\n",
    "        df.drop_duplicates(inplace=True)\n",
    "        print(f'Se eliminaron {duplicates} duplicados')\n",
    "    else:\n",
    "        print('No hay filas duplicadas')\n"
   ]
  },
  {
   "cell_type": "code",
   "execution_count": 9,
   "id": "2b2d715b-4224-4a48-9f55-860fb2da8ba1",
   "metadata": {},
   "outputs": [],
   "source": [
    "def ids_duplicados(df,id_stamp):\n",
    "    unique_id = df[id_stamp].nunique() #contar id unicos\n",
    "    print(f'{unique_id} order_id unicas')\n",
    "    print(f\"{df.shape[0]} registros\")\n",
    "    print(f'Hay {df.shape[0] - unique_id} {id_stamp} duplicados') #comparar id unicos con el total de registros\n"
   ]
  },
  {
   "cell_type": "markdown",
   "id": "f179f0a9",
   "metadata": {
    "id": "f179f0a9"
   },
   "source": [
    "### `orders` data frame"
   ]
  },
  {
   "cell_type": "code",
   "execution_count": 10,
   "id": "b99297a5-405a-463d-8535-9adc3da4ad74",
   "metadata": {
    "id": "b99297a5-405a-463d-8535-9adc3da4ad74"
   },
   "outputs": [
    {
     "name": "stdout",
     "output_type": "stream",
     "text": [
      "Filas duplicadas: 15\n"
     ]
    }
   ],
   "source": [
    "# Revisa si hay pedidos duplicados\n",
    "orders_duplicates = orders.duplicated()\n",
    "print(f'Filas duplicadas: {orders_duplicates.sum()}')"
   ]
  },
  {
   "cell_type": "code",
   "execution_count": 11,
   "id": "de2fac79",
   "metadata": {},
   "outputs": [
    {
     "data": {
      "text/html": [
       "<div>\n",
       "<style scoped>\n",
       "    .dataframe tbody tr th:only-of-type {\n",
       "        vertical-align: middle;\n",
       "    }\n",
       "\n",
       "    .dataframe tbody tr th {\n",
       "        vertical-align: top;\n",
       "    }\n",
       "\n",
       "    .dataframe thead th {\n",
       "        text-align: right;\n",
       "    }\n",
       "</style>\n",
       "<table border=\"1\" class=\"dataframe\">\n",
       "  <thead>\n",
       "    <tr style=\"text-align: right;\">\n",
       "      <th></th>\n",
       "      <th>order_id</th>\n",
       "      <th>user_id</th>\n",
       "      <th>order_number</th>\n",
       "      <th>order_dow</th>\n",
       "      <th>order_hour_of_day</th>\n",
       "      <th>days_since_prior_order</th>\n",
       "    </tr>\n",
       "  </thead>\n",
       "  <tbody>\n",
       "    <tr>\n",
       "      <th>145574</th>\n",
       "      <td>794638</td>\n",
       "      <td>50898</td>\n",
       "      <td>24</td>\n",
       "      <td>3</td>\n",
       "      <td>2</td>\n",
       "      <td>2.0</td>\n",
       "    </tr>\n",
       "    <tr>\n",
       "      <th>223105</th>\n",
       "      <td>2160484</td>\n",
       "      <td>107525</td>\n",
       "      <td>16</td>\n",
       "      <td>3</td>\n",
       "      <td>2</td>\n",
       "      <td>30.0</td>\n",
       "    </tr>\n",
       "    <tr>\n",
       "      <th>230807</th>\n",
       "      <td>1918001</td>\n",
       "      <td>188546</td>\n",
       "      <td>14</td>\n",
       "      <td>3</td>\n",
       "      <td>2</td>\n",
       "      <td>16.0</td>\n",
       "    </tr>\n",
       "    <tr>\n",
       "      <th>266232</th>\n",
       "      <td>1782114</td>\n",
       "      <td>106752</td>\n",
       "      <td>1</td>\n",
       "      <td>3</td>\n",
       "      <td>2</td>\n",
       "      <td>NaN</td>\n",
       "    </tr>\n",
       "    <tr>\n",
       "      <th>273805</th>\n",
       "      <td>1112182</td>\n",
       "      <td>202304</td>\n",
       "      <td>84</td>\n",
       "      <td>3</td>\n",
       "      <td>2</td>\n",
       "      <td>6.0</td>\n",
       "    </tr>\n",
       "    <tr>\n",
       "      <th>284038</th>\n",
       "      <td>2845099</td>\n",
       "      <td>31189</td>\n",
       "      <td>11</td>\n",
       "      <td>3</td>\n",
       "      <td>2</td>\n",
       "      <td>7.0</td>\n",
       "    </tr>\n",
       "    <tr>\n",
       "      <th>311713</th>\n",
       "      <td>1021560</td>\n",
       "      <td>53767</td>\n",
       "      <td>3</td>\n",
       "      <td>3</td>\n",
       "      <td>2</td>\n",
       "      <td>9.0</td>\n",
       "    </tr>\n",
       "    <tr>\n",
       "      <th>321100</th>\n",
       "      <td>408114</td>\n",
       "      <td>68324</td>\n",
       "      <td>4</td>\n",
       "      <td>3</td>\n",
       "      <td>2</td>\n",
       "      <td>18.0</td>\n",
       "    </tr>\n",
       "    <tr>\n",
       "      <th>323900</th>\n",
       "      <td>1919531</td>\n",
       "      <td>191501</td>\n",
       "      <td>32</td>\n",
       "      <td>3</td>\n",
       "      <td>2</td>\n",
       "      <td>7.0</td>\n",
       "    </tr>\n",
       "    <tr>\n",
       "      <th>345917</th>\n",
       "      <td>2232988</td>\n",
       "      <td>82565</td>\n",
       "      <td>1</td>\n",
       "      <td>3</td>\n",
       "      <td>2</td>\n",
       "      <td>NaN</td>\n",
       "    </tr>\n",
       "    <tr>\n",
       "      <th>371905</th>\n",
       "      <td>391768</td>\n",
       "      <td>57671</td>\n",
       "      <td>19</td>\n",
       "      <td>3</td>\n",
       "      <td>2</td>\n",
       "      <td>10.0</td>\n",
       "    </tr>\n",
       "    <tr>\n",
       "      <th>394347</th>\n",
       "      <td>467134</td>\n",
       "      <td>63189</td>\n",
       "      <td>21</td>\n",
       "      <td>3</td>\n",
       "      <td>2</td>\n",
       "      <td>2.0</td>\n",
       "    </tr>\n",
       "    <tr>\n",
       "      <th>411408</th>\n",
       "      <td>1286742</td>\n",
       "      <td>183220</td>\n",
       "      <td>48</td>\n",
       "      <td>3</td>\n",
       "      <td>2</td>\n",
       "      <td>4.0</td>\n",
       "    </tr>\n",
       "    <tr>\n",
       "      <th>415163</th>\n",
       "      <td>2282673</td>\n",
       "      <td>86751</td>\n",
       "      <td>49</td>\n",
       "      <td>3</td>\n",
       "      <td>2</td>\n",
       "      <td>2.0</td>\n",
       "    </tr>\n",
       "    <tr>\n",
       "      <th>441599</th>\n",
       "      <td>2125197</td>\n",
       "      <td>14050</td>\n",
       "      <td>48</td>\n",
       "      <td>3</td>\n",
       "      <td>2</td>\n",
       "      <td>3.0</td>\n",
       "    </tr>\n",
       "  </tbody>\n",
       "</table>\n",
       "</div>"
      ],
      "text/plain": [
       "        order_id  user_id  order_number  order_dow  order_hour_of_day  \\\n",
       "145574    794638    50898            24          3                  2   \n",
       "223105   2160484   107525            16          3                  2   \n",
       "230807   1918001   188546            14          3                  2   \n",
       "266232   1782114   106752             1          3                  2   \n",
       "273805   1112182   202304            84          3                  2   \n",
       "284038   2845099    31189            11          3                  2   \n",
       "311713   1021560    53767             3          3                  2   \n",
       "321100    408114    68324             4          3                  2   \n",
       "323900   1919531   191501            32          3                  2   \n",
       "345917   2232988    82565             1          3                  2   \n",
       "371905    391768    57671            19          3                  2   \n",
       "394347    467134    63189            21          3                  2   \n",
       "411408   1286742   183220            48          3                  2   \n",
       "415163   2282673    86751            49          3                  2   \n",
       "441599   2125197    14050            48          3                  2   \n",
       "\n",
       "        days_since_prior_order  \n",
       "145574                     2.0  \n",
       "223105                    30.0  \n",
       "230807                    16.0  \n",
       "266232                     NaN  \n",
       "273805                     6.0  \n",
       "284038                     7.0  \n",
       "311713                     9.0  \n",
       "321100                    18.0  \n",
       "323900                     7.0  \n",
       "345917                     NaN  \n",
       "371905                    10.0  \n",
       "394347                     2.0  \n",
       "411408                     4.0  \n",
       "415163                     2.0  \n",
       "441599                     3.0  "
      ]
     },
     "execution_count": null,
     "metadata": {},
     "output_type": "execute_result"
    }
   ],
   "source": [
    "orders[orders_duplicates]"
   ]
  },
  {
   "cell_type": "markdown",
   "id": "PEkwUX_gvt5A",
   "metadata": {
    "id": "PEkwUX_gvt5A"
   },
   "source": [
    "¿Tienes líneas duplicadas? Si sí, ¿qué tienen en común?\n",
    "- Si hay duplicados, 15 duplicados.\n",
    "- Vemos que los duplicados en el sales_reorders_user, provienen del mismo dia a la misma hora, miércoles a las 2:00 a.m."
   ]
  },
  {
   "cell_type": "code",
   "execution_count": 12,
   "id": "0d44de5d",
   "metadata": {
    "id": "0d44de5d"
   },
   "outputs": [
    {
     "name": "stdout",
     "output_type": "stream",
     "text": [
      "Hay 15 duplicados\n",
      "\n"
     ]
    },
    {
     "data": {
      "text/html": [
       "<div>\n",
       "<style scoped>\n",
       "    .dataframe tbody tr th:only-of-type {\n",
       "        vertical-align: middle;\n",
       "    }\n",
       "\n",
       "    .dataframe tbody tr th {\n",
       "        vertical-align: top;\n",
       "    }\n",
       "\n",
       "    .dataframe thead th {\n",
       "        text-align: right;\n",
       "    }\n",
       "</style>\n",
       "<table border=\"1\" class=\"dataframe\">\n",
       "  <thead>\n",
       "    <tr style=\"text-align: right;\">\n",
       "      <th></th>\n",
       "      <th>order_id</th>\n",
       "      <th>user_id</th>\n",
       "      <th>order_number</th>\n",
       "      <th>order_dow</th>\n",
       "      <th>order_hour_of_day</th>\n",
       "      <th>days_since_prior_order</th>\n",
       "    </tr>\n",
       "  </thead>\n",
       "  <tbody>\n",
       "    <tr>\n",
       "      <th>145574</th>\n",
       "      <td>794638</td>\n",
       "      <td>50898</td>\n",
       "      <td>24</td>\n",
       "      <td>3</td>\n",
       "      <td>2</td>\n",
       "      <td>2.0</td>\n",
       "    </tr>\n",
       "    <tr>\n",
       "      <th>223105</th>\n",
       "      <td>2160484</td>\n",
       "      <td>107525</td>\n",
       "      <td>16</td>\n",
       "      <td>3</td>\n",
       "      <td>2</td>\n",
       "      <td>30.0</td>\n",
       "    </tr>\n",
       "    <tr>\n",
       "      <th>230807</th>\n",
       "      <td>1918001</td>\n",
       "      <td>188546</td>\n",
       "      <td>14</td>\n",
       "      <td>3</td>\n",
       "      <td>2</td>\n",
       "      <td>16.0</td>\n",
       "    </tr>\n",
       "    <tr>\n",
       "      <th>266232</th>\n",
       "      <td>1782114</td>\n",
       "      <td>106752</td>\n",
       "      <td>1</td>\n",
       "      <td>3</td>\n",
       "      <td>2</td>\n",
       "      <td>NaN</td>\n",
       "    </tr>\n",
       "    <tr>\n",
       "      <th>273805</th>\n",
       "      <td>1112182</td>\n",
       "      <td>202304</td>\n",
       "      <td>84</td>\n",
       "      <td>3</td>\n",
       "      <td>2</td>\n",
       "      <td>6.0</td>\n",
       "    </tr>\n",
       "    <tr>\n",
       "      <th>284038</th>\n",
       "      <td>2845099</td>\n",
       "      <td>31189</td>\n",
       "      <td>11</td>\n",
       "      <td>3</td>\n",
       "      <td>2</td>\n",
       "      <td>7.0</td>\n",
       "    </tr>\n",
       "    <tr>\n",
       "      <th>311713</th>\n",
       "      <td>1021560</td>\n",
       "      <td>53767</td>\n",
       "      <td>3</td>\n",
       "      <td>3</td>\n",
       "      <td>2</td>\n",
       "      <td>9.0</td>\n",
       "    </tr>\n",
       "    <tr>\n",
       "      <th>321100</th>\n",
       "      <td>408114</td>\n",
       "      <td>68324</td>\n",
       "      <td>4</td>\n",
       "      <td>3</td>\n",
       "      <td>2</td>\n",
       "      <td>18.0</td>\n",
       "    </tr>\n",
       "    <tr>\n",
       "      <th>323900</th>\n",
       "      <td>1919531</td>\n",
       "      <td>191501</td>\n",
       "      <td>32</td>\n",
       "      <td>3</td>\n",
       "      <td>2</td>\n",
       "      <td>7.0</td>\n",
       "    </tr>\n",
       "    <tr>\n",
       "      <th>345917</th>\n",
       "      <td>2232988</td>\n",
       "      <td>82565</td>\n",
       "      <td>1</td>\n",
       "      <td>3</td>\n",
       "      <td>2</td>\n",
       "      <td>NaN</td>\n",
       "    </tr>\n",
       "    <tr>\n",
       "      <th>371905</th>\n",
       "      <td>391768</td>\n",
       "      <td>57671</td>\n",
       "      <td>19</td>\n",
       "      <td>3</td>\n",
       "      <td>2</td>\n",
       "      <td>10.0</td>\n",
       "    </tr>\n",
       "    <tr>\n",
       "      <th>394347</th>\n",
       "      <td>467134</td>\n",
       "      <td>63189</td>\n",
       "      <td>21</td>\n",
       "      <td>3</td>\n",
       "      <td>2</td>\n",
       "      <td>2.0</td>\n",
       "    </tr>\n",
       "    <tr>\n",
       "      <th>411408</th>\n",
       "      <td>1286742</td>\n",
       "      <td>183220</td>\n",
       "      <td>48</td>\n",
       "      <td>3</td>\n",
       "      <td>2</td>\n",
       "      <td>4.0</td>\n",
       "    </tr>\n",
       "    <tr>\n",
       "      <th>415163</th>\n",
       "      <td>2282673</td>\n",
       "      <td>86751</td>\n",
       "      <td>49</td>\n",
       "      <td>3</td>\n",
       "      <td>2</td>\n",
       "      <td>2.0</td>\n",
       "    </tr>\n",
       "    <tr>\n",
       "      <th>441599</th>\n",
       "      <td>2125197</td>\n",
       "      <td>14050</td>\n",
       "      <td>48</td>\n",
       "      <td>3</td>\n",
       "      <td>2</td>\n",
       "      <td>3.0</td>\n",
       "    </tr>\n",
       "  </tbody>\n",
       "</table>\n",
       "</div>"
      ],
      "text/plain": [
       "        order_id  user_id  order_number  order_dow  order_hour_of_day  \\\n",
       "145574    794638    50898            24          3                  2   \n",
       "223105   2160484   107525            16          3                  2   \n",
       "230807   1918001   188546            14          3                  2   \n",
       "266232   1782114   106752             1          3                  2   \n",
       "273805   1112182   202304            84          3                  2   \n",
       "284038   2845099    31189            11          3                  2   \n",
       "311713   1021560    53767             3          3                  2   \n",
       "321100    408114    68324             4          3                  2   \n",
       "323900   1919531   191501            32          3                  2   \n",
       "345917   2232988    82565             1          3                  2   \n",
       "371905    391768    57671            19          3                  2   \n",
       "394347    467134    63189            21          3                  2   \n",
       "411408   1286742   183220            48          3                  2   \n",
       "415163   2282673    86751            49          3                  2   \n",
       "441599   2125197    14050            48          3                  2   \n",
       "\n",
       "        days_since_prior_order  \n",
       "145574                     2.0  \n",
       "223105                    30.0  \n",
       "230807                    16.0  \n",
       "266232                     NaN  \n",
       "273805                     6.0  \n",
       "284038                     7.0  \n",
       "311713                     9.0  \n",
       "321100                    18.0  \n",
       "323900                     7.0  \n",
       "345917                     NaN  \n",
       "371905                    10.0  \n",
       "394347                     2.0  \n",
       "411408                     4.0  \n",
       "415163                     2.0  \n",
       "441599                     3.0  "
      ]
     },
     "execution_count": null,
     "metadata": {},
     "output_type": "execute_result"
    }
   ],
   "source": [
    "# Basándote en tus hallazgos,\n",
    "# Verifica todos los pedidos que se hicieron el miércoles a las 2:00 a.m.\n",
    "wensday_2am = orders[(orders['order_dow']==3) & (orders['order_hour_of_day']==2)] # Filtrar DF\n",
    "\n",
    "print(f'Hay {wensday_2am.duplicated().sum()} duplicados') # Contar duplicados\n",
    "print()\n",
    "\n",
    "wensday_2am[wensday_2am.duplicated()]"
   ]
  },
  {
   "cell_type": "code",
   "execution_count": 13,
   "id": "efd0a075-9512-4273-8b13-c9fb11312c73",
   "metadata": {},
   "outputs": [
    {
     "name": "stdout",
     "output_type": "stream",
     "text": [
      "Duplicados explicitos 15\n",
      "106 order_id unicas\n",
      "121 registros\n",
      "Hay 15 order_id duplicados\n"
     ]
    }
   ],
   "source": [
    "print(f'Duplicados explicitos {wensday_2am.duplicated().sum()}') # Contar duplicados\n",
    "\n",
    "ids_duplicados(wensday_2am,'order_id') # Uso de funcion para verificar IDs duplicados"
   ]
  },
  {
   "cell_type": "markdown",
   "id": "vu2OWyoqwOx5",
   "metadata": {
    "id": "vu2OWyoqwOx5"
   },
   "source": [
    "¿Qué sugiere este resultado?\n",
    "- Los 15 valores duplicados vienen del mismo día y la misma hora, es recomendable verificar el porqué del error.\n",
    "- Se revisó si había más order_id duplicados pero vemos que son los mismos 15"
   ]
  },
  {
   "cell_type": "code",
   "execution_count": 14,
   "id": "480563c7",
   "metadata": {
    "id": "480563c7"
   },
   "outputs": [
    {
     "name": "stdout",
     "output_type": "stream",
     "text": [
      "Se eliminaron 15 duplicados\n"
     ]
    }
   ],
   "source": [
    "# Elimina los pedidos duplicados\n",
    "eliminar_duplicados(orders)"
   ]
  },
  {
   "cell_type": "code",
   "execution_count": 15,
   "id": "0b2396a2",
   "metadata": {
    "id": "0b2396a2"
   },
   "outputs": [
    {
     "data": {
      "text/plain": [
       "np.int64(0)"
      ]
     },
     "execution_count": null,
     "metadata": {},
     "output_type": "execute_result"
    }
   ],
   "source": [
    "# Vuelve a verificar si hay filas duplicadas\n",
    "orders.duplicated().sum()"
   ]
  },
  {
   "cell_type": "code",
   "execution_count": 16,
   "id": "f6113ef1",
   "metadata": {
    "id": "f6113ef1"
   },
   "outputs": [
    {
     "name": "stdout",
     "output_type": "stream",
     "text": [
      "478952 order_id unicas\n",
      "478952 registros\n",
      "Hay 0 order_id duplicados\n"
     ]
    }
   ],
   "source": [
    "# Vuelve a verificar únicamente si hay IDs duplicados de pedidos\n",
    "ids_duplicados(orders,\"order_id\") # Uso de funcion para verificar IDs duplicados"
   ]
  },
  {
   "cell_type": "markdown",
   "id": "5e8905ae",
   "metadata": {
    "id": "5e8905ae"
   },
   "source": [
    "Describe brevemente tus hallazgos y lo que hiciste con ellos\n",
    "\n",
    "1. Conté los duplicados por fila y salieron 15 duplicados\n",
    "2. Comprobé si había más duplicados por order_id, la cual es la primary key.\n",
    "    - Verificamos que solo había 15 duplicados\n",
    "3. Elimine los duplicados\n",
    "4. Verifique una vez más los duplicados y ya no apareció ninguno"
   ]
  },
  {
   "cell_type": "markdown",
   "id": "45e6bc46",
   "metadata": {
    "id": "45e6bc46"
   },
   "source": [
    "### `products` data frame"
   ]
  },
  {
   "cell_type": "code",
   "execution_count": 17,
   "id": "5f526b5b-8175-46fa-a0fd-441767d50e64",
   "metadata": {
    "id": "5f526b5b-8175-46fa-a0fd-441767d50e64"
   },
   "outputs": [
    {
     "name": "stdout",
     "output_type": "stream",
     "text": [
      "0\n"
     ]
    }
   ],
   "source": [
    "# Verifica si hay filas totalmente duplicadas\n",
    "products_duplicates = products.duplicated().sum()\n",
    "print(f'{products_duplicates}')"
   ]
  },
  {
   "cell_type": "code",
   "execution_count": 18,
   "id": "88daa4f4",
   "metadata": {
    "id": "88daa4f4"
   },
   "outputs": [
    {
     "name": "stdout",
     "output_type": "stream",
     "text": [
      "49694 order_id unicas\n",
      "49694 registros\n",
      "Hay 0 product_id duplicados\n"
     ]
    }
   ],
   "source": [
    "# Revisa únicamente si hay ID de productos duplicados\n",
    "ids_duplicados(products, 'product_id')"
   ]
  },
  {
   "cell_type": "code",
   "execution_count": 19,
   "id": "c773f0bf",
   "metadata": {
    "id": "c773f0bf"
   },
   "outputs": [
    {
     "name": "stdout",
     "output_type": "stream",
     "text": [
      "Nombres de producto duplicados 1361\n"
     ]
    }
   ],
   "source": [
    "# Revisa únicamente si hay nombres duplicados de productos (convierte los nombres a letras mayúsculas para compararlos mejor)\n",
    "print(f'Nombres de producto duplicados {products['product_name'].str.upper().duplicated().sum()}')  "
   ]
  },
  {
   "cell_type": "code",
   "execution_count": 20,
   "id": "c46edcef",
   "metadata": {},
   "outputs": [],
   "source": [
    "# Unificar formato 'product_name'\n",
    "products['product_name_u'] = products['product_name'].str.upper()\n",
    "\n",
    "products_2 = products.copy() #Crear copia del DF, para un proceso alterno"
   ]
  },
  {
   "cell_type": "code",
   "execution_count": 21,
   "id": "cf48ce80-ebad-4dab-a322-7cb44d9c8765",
   "metadata": {},
   "outputs": [
    {
     "data": {
      "text/plain": [
       "product_name_u\n",
       "NaN                                                1257\n",
       "GREEN TEA WITH GINSENG AND HONEY                      2\n",
       "BIOTIN 1000 MCG                                       1\n",
       "CREAM OF MUSHROOM SOUP                                1\n",
       "CINNAMON ROLLS WITH ICING                             1\n",
       "                                                   ... \n",
       "HIGH PERFORMANCE ENERGY DRINK                         1\n",
       "ORIGINAL PANCAKE & WAFFLE MIX                         1\n",
       "ORGANIC INSTANT OATMEAL LIGHT MAPLE BROWN SUGAR       1\n",
       "SPRING WATER BODY WASH                                1\n",
       "BURRITO- STEAK & CHEESE                               1\n",
       "Name: count, Length: 104, dtype: int64"
      ]
     },
     "execution_count": null,
     "metadata": {},
     "output_type": "execute_result"
    }
   ],
   "source": [
    "# Econtar valores duplicados\n",
    "products[products['product_name_u'].duplicated()]['product_name_u'].value_counts(sort=True, ascending=False, dropna=False)"
   ]
  },
  {
   "cell_type": "markdown",
   "id": "9e8c6647",
   "metadata": {},
   "source": [
    "Vemos que hay 1257 productos sin identificar, de los 1361 duplicados"
   ]
  },
  {
   "cell_type": "code",
   "execution_count": 22,
   "id": "63da7976",
   "metadata": {},
   "outputs": [
    {
     "data": {
      "text/html": [
       "<div>\n",
       "<style scoped>\n",
       "    .dataframe tbody tr th:only-of-type {\n",
       "        vertical-align: middle;\n",
       "    }\n",
       "\n",
       "    .dataframe tbody tr th {\n",
       "        vertical-align: top;\n",
       "    }\n",
       "\n",
       "    .dataframe thead th {\n",
       "        text-align: right;\n",
       "    }\n",
       "</style>\n",
       "<table border=\"1\" class=\"dataframe\">\n",
       "  <thead>\n",
       "    <tr style=\"text-align: right;\">\n",
       "      <th></th>\n",
       "      <th>product_id</th>\n",
       "      <th>product_name</th>\n",
       "      <th>aisle_id</th>\n",
       "      <th>department_id</th>\n",
       "      <th>product_name_u</th>\n",
       "    </tr>\n",
       "  </thead>\n",
       "  <tbody>\n",
       "    <tr>\n",
       "      <th>25277</th>\n",
       "      <td>25278</td>\n",
       "      <td>NaN</td>\n",
       "      <td>100</td>\n",
       "      <td>21</td>\n",
       "      <td>NaN</td>\n",
       "    </tr>\n",
       "    <tr>\n",
       "      <th>6512</th>\n",
       "      <td>6513</td>\n",
       "      <td>NaN</td>\n",
       "      <td>100</td>\n",
       "      <td>21</td>\n",
       "      <td>NaN</td>\n",
       "    </tr>\n",
       "    <tr>\n",
       "      <th>29480</th>\n",
       "      <td>29481</td>\n",
       "      <td>NaN</td>\n",
       "      <td>100</td>\n",
       "      <td>21</td>\n",
       "      <td>NaN</td>\n",
       "    </tr>\n",
       "    <tr>\n",
       "      <th>37299</th>\n",
       "      <td>37300</td>\n",
       "      <td>NaN</td>\n",
       "      <td>100</td>\n",
       "      <td>21</td>\n",
       "      <td>NaN</td>\n",
       "    </tr>\n",
       "    <tr>\n",
       "      <th>33282</th>\n",
       "      <td>33283</td>\n",
       "      <td>NaN</td>\n",
       "      <td>100</td>\n",
       "      <td>21</td>\n",
       "      <td>NaN</td>\n",
       "    </tr>\n",
       "    <tr>\n",
       "      <th>2197</th>\n",
       "      <td>2198</td>\n",
       "      <td>NaN</td>\n",
       "      <td>100</td>\n",
       "      <td>21</td>\n",
       "      <td>NaN</td>\n",
       "    </tr>\n",
       "    <tr>\n",
       "      <th>17655</th>\n",
       "      <td>17656</td>\n",
       "      <td>NaN</td>\n",
       "      <td>100</td>\n",
       "      <td>21</td>\n",
       "      <td>NaN</td>\n",
       "    </tr>\n",
       "    <tr>\n",
       "      <th>24771</th>\n",
       "      <td>24772</td>\n",
       "      <td>NaN</td>\n",
       "      <td>100</td>\n",
       "      <td>21</td>\n",
       "      <td>NaN</td>\n",
       "    </tr>\n",
       "    <tr>\n",
       "      <th>12254</th>\n",
       "      <td>12255</td>\n",
       "      <td>NaN</td>\n",
       "      <td>100</td>\n",
       "      <td>21</td>\n",
       "      <td>NaN</td>\n",
       "    </tr>\n",
       "    <tr>\n",
       "      <th>35933</th>\n",
       "      <td>35934</td>\n",
       "      <td>NaN</td>\n",
       "      <td>100</td>\n",
       "      <td>21</td>\n",
       "      <td>NaN</td>\n",
       "    </tr>\n",
       "    <tr>\n",
       "      <th>46165</th>\n",
       "      <td>46166</td>\n",
       "      <td>NaN</td>\n",
       "      <td>100</td>\n",
       "      <td>21</td>\n",
       "      <td>NaN</td>\n",
       "    </tr>\n",
       "    <tr>\n",
       "      <th>24137</th>\n",
       "      <td>24138</td>\n",
       "      <td>NaN</td>\n",
       "      <td>100</td>\n",
       "      <td>21</td>\n",
       "      <td>NaN</td>\n",
       "    </tr>\n",
       "    <tr>\n",
       "      <th>15425</th>\n",
       "      <td>15426</td>\n",
       "      <td>NaN</td>\n",
       "      <td>100</td>\n",
       "      <td>21</td>\n",
       "      <td>NaN</td>\n",
       "    </tr>\n",
       "    <tr>\n",
       "      <th>29113</th>\n",
       "      <td>29114</td>\n",
       "      <td>NaN</td>\n",
       "      <td>100</td>\n",
       "      <td>21</td>\n",
       "      <td>NaN</td>\n",
       "    </tr>\n",
       "    <tr>\n",
       "      <th>27266</th>\n",
       "      <td>27267</td>\n",
       "      <td>NaN</td>\n",
       "      <td>100</td>\n",
       "      <td>21</td>\n",
       "      <td>NaN</td>\n",
       "    </tr>\n",
       "  </tbody>\n",
       "</table>\n",
       "</div>"
      ],
      "text/plain": [
       "       product_id product_name  aisle_id  department_id product_name_u\n",
       "25277       25278          NaN       100             21            NaN\n",
       "6512         6513          NaN       100             21            NaN\n",
       "29480       29481          NaN       100             21            NaN\n",
       "37299       37300          NaN       100             21            NaN\n",
       "33282       33283          NaN       100             21            NaN\n",
       "2197         2198          NaN       100             21            NaN\n",
       "17655       17656          NaN       100             21            NaN\n",
       "24771       24772          NaN       100             21            NaN\n",
       "12254       12255          NaN       100             21            NaN\n",
       "35933       35934          NaN       100             21            NaN\n",
       "46165       46166          NaN       100             21            NaN\n",
       "24137       24138          NaN       100             21            NaN\n",
       "15425       15426          NaN       100             21            NaN\n",
       "29113       29114          NaN       100             21            NaN\n",
       "27266       27267          NaN       100             21            NaN"
      ]
     },
     "execution_count": null,
     "metadata": {},
     "output_type": "execute_result"
    }
   ],
   "source": [
    "products[products['product_name_u'].isna()].sample(15)"
   ]
  },
  {
   "cell_type": "code",
   "execution_count": 23,
   "id": "566dae42",
   "metadata": {},
   "outputs": [
    {
     "data": {
      "text/plain": [
       "product_name_u\n",
       "NaN    1258\n",
       "Name: count, dtype: int64"
      ]
     },
     "execution_count": null,
     "metadata": {},
     "output_type": "execute_result"
    }
   ],
   "source": [
    "products[(products['department_id']==21) & (products['aisle_id']==100)]['product_name_u'].value_counts(dropna=False)"
   ]
  },
  {
   "cell_type": "markdown",
   "id": "f4c93d0f",
   "metadata": {},
   "source": [
    "Nos encontramos con que los 1258 productos Nan vienen del mismo pasillo y departamento. \n",
    "\n",
    "- Los productos sin nombre se asigan a un departamento y pasillo que no existen.\n",
    "- Los productos Nan conservaran sus indices individuales, por que estos pueden ser productos existentes y borrarlos con el tiempo esto generara inconcistencias en otras tablas, al momento de agregar los nombres faltantes.\n",
    "\n"
   ]
  },
  {
   "cell_type": "code",
   "execution_count": 24,
   "id": "c72b9dfa-bf1b-4d64-955e-ca257507ffc4",
   "metadata": {},
   "outputs": [
    {
     "data": {
      "text/html": [
       "<div>\n",
       "<style scoped>\n",
       "    .dataframe tbody tr th:only-of-type {\n",
       "        vertical-align: middle;\n",
       "    }\n",
       "\n",
       "    .dataframe tbody tr th {\n",
       "        vertical-align: top;\n",
       "    }\n",
       "\n",
       "    .dataframe thead th {\n",
       "        text-align: right;\n",
       "    }\n",
       "</style>\n",
       "<table border=\"1\" class=\"dataframe\">\n",
       "  <thead>\n",
       "    <tr style=\"text-align: right;\">\n",
       "      <th></th>\n",
       "      <th>product_id</th>\n",
       "      <th>product_name</th>\n",
       "      <th>aisle_id</th>\n",
       "      <th>department_id</th>\n",
       "      <th>product_name_u</th>\n",
       "    </tr>\n",
       "  </thead>\n",
       "  <tbody>\n",
       "    <tr>\n",
       "      <th>41</th>\n",
       "      <td>42</td>\n",
       "      <td>Biotin 1000 mcg</td>\n",
       "      <td>47</td>\n",
       "      <td>11</td>\n",
       "      <td>BIOTIN 1000 MCG</td>\n",
       "    </tr>\n",
       "    <tr>\n",
       "      <th>2058</th>\n",
       "      <td>2059</td>\n",
       "      <td>Biotin 1000 Mcg</td>\n",
       "      <td>47</td>\n",
       "      <td>11</td>\n",
       "      <td>BIOTIN 1000 MCG</td>\n",
       "    </tr>\n",
       "  </tbody>\n",
       "</table>\n",
       "</div>"
      ],
      "text/plain": [
       "      product_id     product_name  aisle_id  department_id   product_name_u\n",
       "41            42  Biotin 1000 mcg        47             11  BIOTIN 1000 MCG\n",
       "2058        2059  Biotin 1000 Mcg        47             11  BIOTIN 1000 MCG"
      ]
     },
     "execution_count": null,
     "metadata": {},
     "output_type": "execute_result"
    }
   ],
   "source": [
    "products[products['product_name_u']=='BIOTIN 1000 MCG']"
   ]
  },
  {
   "cell_type": "code",
   "execution_count": 25,
   "id": "c7287510",
   "metadata": {},
   "outputs": [
    {
     "data": {
      "text/html": [
       "<div>\n",
       "<style scoped>\n",
       "    .dataframe tbody tr th:only-of-type {\n",
       "        vertical-align: middle;\n",
       "    }\n",
       "\n",
       "    .dataframe tbody tr th {\n",
       "        vertical-align: top;\n",
       "    }\n",
       "\n",
       "    .dataframe thead th {\n",
       "        text-align: right;\n",
       "    }\n",
       "</style>\n",
       "<table border=\"1\" class=\"dataframe\">\n",
       "  <thead>\n",
       "    <tr style=\"text-align: right;\">\n",
       "      <th></th>\n",
       "      <th>product_id</th>\n",
       "      <th>product_name</th>\n",
       "      <th>aisle_id</th>\n",
       "      <th>department_id</th>\n",
       "      <th>product_name_u</th>\n",
       "    </tr>\n",
       "  </thead>\n",
       "  <tbody>\n",
       "    <tr>\n",
       "      <th>2037</th>\n",
       "      <td>2038</td>\n",
       "      <td>Green Tea with Ginseng and Honey</td>\n",
       "      <td>94</td>\n",
       "      <td>7</td>\n",
       "      <td>GREEN TEA WITH GINSENG AND HONEY</td>\n",
       "    </tr>\n",
       "    <tr>\n",
       "      <th>5455</th>\n",
       "      <td>5456</td>\n",
       "      <td>Green Tea With Ginseng and Honey</td>\n",
       "      <td>96</td>\n",
       "      <td>20</td>\n",
       "      <td>GREEN TEA WITH GINSENG AND HONEY</td>\n",
       "    </tr>\n",
       "    <tr>\n",
       "      <th>19813</th>\n",
       "      <td>19814</td>\n",
       "      <td>Green Tea With Ginseng And Honey</td>\n",
       "      <td>94</td>\n",
       "      <td>7</td>\n",
       "      <td>GREEN TEA WITH GINSENG AND HONEY</td>\n",
       "    </tr>\n",
       "  </tbody>\n",
       "</table>\n",
       "</div>"
      ],
      "text/plain": [
       "       product_id                      product_name  aisle_id  department_id  \\\n",
       "2037         2038  Green Tea with Ginseng and Honey        94              7   \n",
       "5455         5456  Green Tea With Ginseng and Honey        96             20   \n",
       "19813       19814  Green Tea With Ginseng And Honey        94              7   \n",
       "\n",
       "                         product_name_u  \n",
       "2037   GREEN TEA WITH GINSENG AND HONEY  \n",
       "5455   GREEN TEA WITH GINSENG AND HONEY  \n",
       "19813  GREEN TEA WITH GINSENG AND HONEY  "
      ]
     },
     "execution_count": null,
     "metadata": {},
     "output_type": "execute_result"
    }
   ],
   "source": [
    "products[products['product_name_u']=='GREEN TEA WITH GINSENG AND HONEY']"
   ]
  },
  {
   "cell_type": "markdown",
   "id": "c7ad7ff7",
   "metadata": {},
   "source": [
    "Vemos que en la mayoria de registros con nombre duplicados, tienen el mismo pasillo y departamento, a excepcion con 'GREEN TEA WITH GINSENG AND HONEY' pero sale 2 veces con el mismo registro y nos quedaremos con el primero. No sabemos si esto ocurre en mas de una ocasión, pero al eliminar duplicados por product_id o product_name solo nos quedaremos con los primeros datos."
   ]
  },
  {
   "cell_type": "code",
   "execution_count": 26,
   "id": "01efd02e",
   "metadata": {
    "id": "01efd02e"
   },
   "outputs": [
    {
     "name": "stdout",
     "output_type": "stream",
     "text": [
      "product_name_u\n",
      "GREEN TEA WITH GINSENG AND HONEY                   2\n",
      "BIOTIN 1000 MCG                                    1\n",
      "CREAM OF MUSHROOM SOUP                             1\n",
      "CINNAMON ROLLS WITH ICING                          1\n",
      "AMERICAN CHEESE SLICES                             1\n",
      "                                                  ..\n",
      "HIGH PERFORMANCE ENERGY DRINK                      1\n",
      "ORIGINAL PANCAKE & WAFFLE MIX                      1\n",
      "ORGANIC INSTANT OATMEAL LIGHT MAPLE BROWN SUGAR    1\n",
      "SPRING WATER BODY WASH                             1\n",
      "BURRITO- STEAK & CHEESE                            1\n",
      "Name: count, Length: 103, dtype: int64\n",
      "\n",
      "Valores duplicados: 104\n"
     ]
    }
   ],
   "source": [
    "# Revisa si hay nombres duplicados de productos no faltantes\n",
    "print(products[products['product_name_u'].duplicated()]['product_name_u'].value_counts(sort=True, ascending=False))\n",
    "print()\n",
    "print(f'Valores duplicados: {products[products['product_name_u'].duplicated()]['product_name_u'].value_counts(sort=True, ascending=False).sum()}')"
   ]
  },
  {
   "cell_type": "markdown",
   "id": "d78fe453",
   "metadata": {},
   "source": [
    "# Unificar IDs\n",
    "Se hiciernon 2 procesos distintos, el primero es como se me ocurrio como lo podia hacer y el segundo es tras una investigacion\n",
    "## Proceso 1\n",
    "No se encontraron filas duplicadas completas, pero contamos con muchos nombres de producto repetidos con diferentes Ids. \n",
    "Simplemente eliminarlos no es viable ya que este dato se usa en otras tablas por lo que debemos de unificar los Ids.\n",
    "- Se tomara el primer 'product_id' que aparezca por 'producto_name' repetido."
   ]
  },
  {
   "cell_type": "code",
   "execution_count": 27,
   "id": "d9b90a7b",
   "metadata": {},
   "outputs": [
    {
     "data": {
      "text/plain": [
       "['BIOTIN 1000 MCG',\n",
       " 'GREEN TEA WITH GINSENG AND HONEY',\n",
       " 'CREAM OF MUSHROOM SOUP',\n",
       " 'CINNAMON ROLLS WITH ICING',\n",
       " 'AMERICAN CHEESE SLICES']"
      ]
     },
     "execution_count": null,
     "metadata": {},
     "output_type": "execute_result"
    }
   ],
   "source": [
    "# Lista de nombres duplicados\n",
    "product_name_duplicates = products[products['product_name_u'].duplicated()] #DF de duplicados\n",
    "product_name_duplicates_list = product_name_duplicates['product_name_u'].unique().tolist() # lista de 'product_name' duplicados\n",
    "product_name_duplicates_list.remove(np.nan) # eliminar Nan\n",
    "product_name_duplicates_list[0:5] # Sample\n"
   ]
  },
  {
   "cell_type": "code",
   "execution_count": 28,
   "id": "9cce9cb9",
   "metadata": {},
   "outputs": [],
   "source": [
    "correct_id = {} #diccionario con nombre y id de producto correctos\n",
    "to_replace = {} #diccionario anidado, con los product id incorrectos\n",
    "for index in products.index: \n",
    "    if (products['product_name_u'].loc[index] in product_name_duplicates_list): #Condicion, solo nombres de producto duplicados\n",
    "\n",
    "        if products['product_name_u'].loc[index] not in correct_id: #Condicion, no existe el nombre en el diccionario\n",
    "            # agregar producto y id correctos\n",
    "            correct_id[products['product_name_u'].loc[index]] = int(products['product_id'].loc[index]) \n",
    "            # Crear llave de los product_id incorrectos\n",
    "            to_replace[products['product_name_u'].loc[index]] = []\n",
    "        else:\n",
    "            # Llenar diccionario con product_id incorrectos\n",
    "            to_replace[products['product_name_u'].loc[index]].append(int(products['product_id'].loc[index]))\n",
    "        \n",
    "    "
   ]
  },
  {
   "cell_type": "code",
   "execution_count": 29,
   "id": "a5c4d52d",
   "metadata": {},
   "outputs": [
    {
     "data": {
      "text/plain": [
       "np.int64(0)"
      ]
     },
     "execution_count": null,
     "metadata": {},
     "output_type": "execute_result"
    }
   ],
   "source": [
    "# Numero de filas completamente duplicadas antes\n",
    "products.duplicated().sum()"
   ]
  },
  {
   "cell_type": "code",
   "execution_count": 30,
   "id": "47737b08",
   "metadata": {},
   "outputs": [
    {
     "data": {
      "text/plain": [
       "186"
      ]
     },
     "execution_count": null,
     "metadata": {},
     "output_type": "execute_result"
    }
   ],
   "source": [
    "correct_id['FRESH SCENT DISHWASHER DETERGENT WITH DAWN']"
   ]
  },
  {
   "cell_type": "code",
   "execution_count": 31,
   "id": "73f6cd83",
   "metadata": {},
   "outputs": [
    {
     "name": "stdout",
     "output_type": "stream",
     "text": [
      "Se realizaron 103 cambios\n"
     ]
    }
   ],
   "source": [
    "# Unificar IDs\n",
    "cambios = 0\n",
    "for key, item in correct_id.items():\n",
    "    condicion = products['product_name_u'] != key\n",
    "    products['product_id'] = products['product_id'].where(condicion, item)\n",
    "    cambios+=1\n",
    "print(f'Se realizaron {cambios} cambios')"
   ]
  },
  {
   "cell_type": "code",
   "execution_count": 32,
   "id": "7046df7f",
   "metadata": {},
   "outputs": [
    {
     "name": "stdout",
     "output_type": "stream",
     "text": [
      "Product_id dupulicados tras sustitucion: 104\n"
     ]
    }
   ],
   "source": [
    "print(f'Product_id dupulicados tras sustitucion: {products['product_id'].duplicated().sum()}')  "
   ]
  },
  {
   "cell_type": "code",
   "execution_count": 33,
   "id": "854e9528",
   "metadata": {},
   "outputs": [],
   "source": [
    "products.drop_duplicates(subset=['product_id'],inplace=True) # Eliminar duplicados"
   ]
  },
  {
   "cell_type": "code",
   "execution_count": 34,
   "id": "9cfcccad",
   "metadata": {},
   "outputs": [
    {
     "data": {
      "text/plain": [
       "product_name_u\n",
       "NaN    1257\n",
       "Name: count, dtype: int64"
      ]
     },
     "execution_count": null,
     "metadata": {},
     "output_type": "execute_result"
    }
   ],
   "source": [
    "#contar valores duplicados\n",
    "products[products['product_name_u'].duplicated()]['product_name_u'].value_counts(sort=True, ascending=False, dropna=False)"
   ]
  },
  {
   "cell_type": "code",
   "execution_count": 35,
   "id": "98e6f2b7",
   "metadata": {},
   "outputs": [
    {
     "data": {
      "text/html": [
       "<div>\n",
       "<style scoped>\n",
       "    .dataframe tbody tr th:only-of-type {\n",
       "        vertical-align: middle;\n",
       "    }\n",
       "\n",
       "    .dataframe tbody tr th {\n",
       "        vertical-align: top;\n",
       "    }\n",
       "\n",
       "    .dataframe thead th {\n",
       "        text-align: right;\n",
       "    }\n",
       "</style>\n",
       "<table border=\"1\" class=\"dataframe\">\n",
       "  <thead>\n",
       "    <tr style=\"text-align: right;\">\n",
       "      <th></th>\n",
       "      <th>product_id</th>\n",
       "      <th>product_name</th>\n",
       "      <th>aisle_id</th>\n",
       "      <th>department_id</th>\n",
       "      <th>product_name_u</th>\n",
       "    </tr>\n",
       "  </thead>\n",
       "  <tbody>\n",
       "    <tr>\n",
       "      <th>0</th>\n",
       "      <td>1</td>\n",
       "      <td>Chocolate Sandwich Cookies</td>\n",
       "      <td>61</td>\n",
       "      <td>19</td>\n",
       "      <td>CHOCOLATE SANDWICH COOKIES</td>\n",
       "    </tr>\n",
       "    <tr>\n",
       "      <th>1</th>\n",
       "      <td>2</td>\n",
       "      <td>All-Seasons Salt</td>\n",
       "      <td>104</td>\n",
       "      <td>13</td>\n",
       "      <td>ALL-SEASONS SALT</td>\n",
       "    </tr>\n",
       "    <tr>\n",
       "      <th>2</th>\n",
       "      <td>3</td>\n",
       "      <td>Robust Golden Unsweetened Oolong Tea</td>\n",
       "      <td>94</td>\n",
       "      <td>7</td>\n",
       "      <td>ROBUST GOLDEN UNSWEETENED OOLONG TEA</td>\n",
       "    </tr>\n",
       "    <tr>\n",
       "      <th>3</th>\n",
       "      <td>4</td>\n",
       "      <td>Smart Ones Classic Favorites Mini Rigatoni Wit...</td>\n",
       "      <td>38</td>\n",
       "      <td>1</td>\n",
       "      <td>SMART ONES CLASSIC FAVORITES MINI RIGATONI WIT...</td>\n",
       "    </tr>\n",
       "    <tr>\n",
       "      <th>4</th>\n",
       "      <td>5</td>\n",
       "      <td>Green Chile Anytime Sauce</td>\n",
       "      <td>5</td>\n",
       "      <td>13</td>\n",
       "      <td>GREEN CHILE ANYTIME SAUCE</td>\n",
       "    </tr>\n",
       "  </tbody>\n",
       "</table>\n",
       "</div>"
      ],
      "text/plain": [
       "   product_id                                       product_name  aisle_id  \\\n",
       "0           1                         Chocolate Sandwich Cookies        61   \n",
       "1           2                                   All-Seasons Salt       104   \n",
       "2           3               Robust Golden Unsweetened Oolong Tea        94   \n",
       "3           4  Smart Ones Classic Favorites Mini Rigatoni Wit...        38   \n",
       "4           5                          Green Chile Anytime Sauce         5   \n",
       "\n",
       "   department_id                                     product_name_u  \n",
       "0             19                         CHOCOLATE SANDWICH COOKIES  \n",
       "1             13                                   ALL-SEASONS SALT  \n",
       "2              7               ROBUST GOLDEN UNSWEETENED OOLONG TEA  \n",
       "3              1  SMART ONES CLASSIC FAVORITES MINI RIGATONI WIT...  \n",
       "4             13                          GREEN CHILE ANYTIME SAUCE  "
      ]
     },
     "execution_count": null,
     "metadata": {},
     "output_type": "execute_result"
    }
   ],
   "source": [
    "# revisar integridad de df\n",
    "products.head()"
   ]
  },
  {
   "cell_type": "markdown",
   "id": "712d028f",
   "metadata": {},
   "source": [
    "## Proceso 2\n",
    "Proceso encontrado tras investigacion"
   ]
  },
  {
   "cell_type": "code",
   "execution_count": 36,
   "id": "889e0b98",
   "metadata": {},
   "outputs": [
    {
     "data": {
      "text/plain": [
       "product_name_u\n",
       "NaN                                                1257\n",
       "GREEN TEA WITH GINSENG AND HONEY                      2\n",
       "BIOTIN 1000 MCG                                       1\n",
       "CREAM OF MUSHROOM SOUP                                1\n",
       "CINNAMON ROLLS WITH ICING                             1\n",
       "                                                   ... \n",
       "HIGH PERFORMANCE ENERGY DRINK                         1\n",
       "ORIGINAL PANCAKE & WAFFLE MIX                         1\n",
       "ORGANIC INSTANT OATMEAL LIGHT MAPLE BROWN SUGAR       1\n",
       "SPRING WATER BODY WASH                                1\n",
       "BURRITO- STEAK & CHEESE                               1\n",
       "Name: count, Length: 104, dtype: int64"
      ]
     },
     "execution_count": null,
     "metadata": {},
     "output_type": "execute_result"
    }
   ],
   "source": [
    "products_2[products_2['product_name_u'].duplicated()]['product_name_u'].value_counts(sort=True, ascending=False, dropna=False)"
   ]
  },
  {
   "cell_type": "code",
   "execution_count": 37,
   "id": "5fd6aa4b",
   "metadata": {},
   "outputs": [],
   "source": [
    "# 1) Define el ID canónico por nombre (p. ej. el mínimo product_id)\n",
    "canon_id = products_2.groupby(\"product_name_u\")[\"product_id\"].transform(\"min\")\n",
    "\n",
    "# 2) Crear DF de sustitucion product_id_canon y product_id\n",
    "condicion = products_2[\"product_name_u\"].notna() # Excluir 'product_name_u' == nan\n",
    "tmp = products_2.loc[condicion, [\"product_name_u\", \"product_id\"]].copy() # Crear DF tmp con ids anteriores y nombre de producto\n",
    "tmp[\"product_id_canon\"] = canon_id.loc[condicion] # Agragar Ids correctos\n",
    "\n",
    "# 3) Asigna el ID canónico solo donde haya nombre\n",
    "products_2[\"product_id\"] = np.where(products_2[\"product_name_u\"].notna(), canon_id, products_2[\"product_id\"])"
   ]
  },
  {
   "cell_type": "code",
   "execution_count": 38,
   "id": "d236a85e",
   "metadata": {},
   "outputs": [
    {
     "data": {
      "text/html": [
       "<div>\n",
       "<style scoped>\n",
       "    .dataframe tbody tr th:only-of-type {\n",
       "        vertical-align: middle;\n",
       "    }\n",
       "\n",
       "    .dataframe tbody tr th {\n",
       "        vertical-align: top;\n",
       "    }\n",
       "\n",
       "    .dataframe thead th {\n",
       "        text-align: right;\n",
       "    }\n",
       "</style>\n",
       "<table border=\"1\" class=\"dataframe\">\n",
       "  <thead>\n",
       "    <tr style=\"text-align: right;\">\n",
       "      <th></th>\n",
       "      <th>product_name_u</th>\n",
       "      <th>product_id</th>\n",
       "      <th>product_id_canon</th>\n",
       "    </tr>\n",
       "  </thead>\n",
       "  <tbody>\n",
       "    <tr>\n",
       "      <th>2058</th>\n",
       "      <td>BIOTIN 1000 MCG</td>\n",
       "      <td>2059</td>\n",
       "      <td>42.0</td>\n",
       "    </tr>\n",
       "    <tr>\n",
       "      <th>5455</th>\n",
       "      <td>GREEN TEA WITH GINSENG AND HONEY</td>\n",
       "      <td>5456</td>\n",
       "      <td>2038.0</td>\n",
       "    </tr>\n",
       "    <tr>\n",
       "      <th>5558</th>\n",
       "      <td>CREAM OF MUSHROOM SOUP</td>\n",
       "      <td>5559</td>\n",
       "      <td>5439.0</td>\n",
       "    </tr>\n",
       "    <tr>\n",
       "      <th>7558</th>\n",
       "      <td>CINNAMON ROLLS WITH ICING</td>\n",
       "      <td>7559</td>\n",
       "      <td>2957.0</td>\n",
       "    </tr>\n",
       "    <tr>\n",
       "      <th>9037</th>\n",
       "      <td>AMERICAN CHEESE SLICES</td>\n",
       "      <td>9038</td>\n",
       "      <td>516.0</td>\n",
       "    </tr>\n",
       "    <tr>\n",
       "      <th>...</th>\n",
       "      <td>...</td>\n",
       "      <td>...</td>\n",
       "      <td>...</td>\n",
       "    </tr>\n",
       "    <tr>\n",
       "      <th>49689</th>\n",
       "      <td>HIGH PERFORMANCE ENERGY DRINK</td>\n",
       "      <td>49690</td>\n",
       "      <td>22541.0</td>\n",
       "    </tr>\n",
       "    <tr>\n",
       "      <th>49690</th>\n",
       "      <td>ORIGINAL PANCAKE &amp; WAFFLE MIX</td>\n",
       "      <td>49691</td>\n",
       "      <td>25893.0</td>\n",
       "    </tr>\n",
       "    <tr>\n",
       "      <th>49691</th>\n",
       "      <td>ORGANIC INSTANT OATMEAL LIGHT MAPLE BROWN SUGAR</td>\n",
       "      <td>49692</td>\n",
       "      <td>32861.0</td>\n",
       "    </tr>\n",
       "    <tr>\n",
       "      <th>49692</th>\n",
       "      <td>SPRING WATER BODY WASH</td>\n",
       "      <td>49693</td>\n",
       "      <td>36790.0</td>\n",
       "    </tr>\n",
       "    <tr>\n",
       "      <th>49693</th>\n",
       "      <td>BURRITO- STEAK &amp; CHEESE</td>\n",
       "      <td>49694</td>\n",
       "      <td>44315.0</td>\n",
       "    </tr>\n",
       "  </tbody>\n",
       "</table>\n",
       "<p>104 rows × 3 columns</p>\n",
       "</div>"
      ],
      "text/plain": [
       "                                        product_name_u  product_id  \\\n",
       "2058                                   BIOTIN 1000 MCG        2059   \n",
       "5455                  GREEN TEA WITH GINSENG AND HONEY        5456   \n",
       "5558                            CREAM OF MUSHROOM SOUP        5559   \n",
       "7558                         CINNAMON ROLLS WITH ICING        7559   \n",
       "9037                            AMERICAN CHEESE SLICES        9038   \n",
       "...                                                ...         ...   \n",
       "49689                    HIGH PERFORMANCE ENERGY DRINK       49690   \n",
       "49690                    ORIGINAL PANCAKE & WAFFLE MIX       49691   \n",
       "49691  ORGANIC INSTANT OATMEAL LIGHT MAPLE BROWN SUGAR       49692   \n",
       "49692                           SPRING WATER BODY WASH       49693   \n",
       "49693                          BURRITO- STEAK & CHEESE       49694   \n",
       "\n",
       "       product_id_canon  \n",
       "2058               42.0  \n",
       "5455             2038.0  \n",
       "5558             5439.0  \n",
       "7558             2957.0  \n",
       "9037              516.0  \n",
       "...                 ...  \n",
       "49689           22541.0  \n",
       "49690           25893.0  \n",
       "49691           32861.0  \n",
       "49692           36790.0  \n",
       "49693           44315.0  \n",
       "\n",
       "[104 rows x 3 columns]"
      ]
     },
     "execution_count": null,
     "metadata": {},
     "output_type": "execute_result"
    }
   ],
   "source": [
    "tmp[tmp['product_id'] != tmp['product_id_canon']]"
   ]
  },
  {
   "cell_type": "code",
   "execution_count": 39,
   "id": "10926606",
   "metadata": {},
   "outputs": [],
   "source": [
    "products_2.drop_duplicates(subset=['product_id'],inplace=True)"
   ]
  },
  {
   "cell_type": "code",
   "execution_count": 40,
   "id": "a39fcc6b",
   "metadata": {},
   "outputs": [
    {
     "data": {
      "text/plain": [
       "product_name_u\n",
       "NaN    1257\n",
       "Name: count, dtype: int64"
      ]
     },
     "execution_count": null,
     "metadata": {},
     "output_type": "execute_result"
    }
   ],
   "source": [
    "#contar valores duplicados\n",
    "products_2[products_2['product_name_u'].duplicated()]['product_name_u'].value_counts(sort=True, ascending=False, dropna=False)"
   ]
  },
  {
   "cell_type": "code",
   "execution_count": 41,
   "id": "560842cf",
   "metadata": {},
   "outputs": [
    {
     "data": {
      "text/html": [
       "<div>\n",
       "<style scoped>\n",
       "    .dataframe tbody tr th:only-of-type {\n",
       "        vertical-align: middle;\n",
       "    }\n",
       "\n",
       "    .dataframe tbody tr th {\n",
       "        vertical-align: top;\n",
       "    }\n",
       "\n",
       "    .dataframe thead th {\n",
       "        text-align: right;\n",
       "    }\n",
       "</style>\n",
       "<table border=\"1\" class=\"dataframe\">\n",
       "  <thead>\n",
       "    <tr style=\"text-align: right;\">\n",
       "      <th></th>\n",
       "      <th>product_id</th>\n",
       "      <th>product_name</th>\n",
       "      <th>aisle_id</th>\n",
       "      <th>department_id</th>\n",
       "      <th>product_name_u</th>\n",
       "    </tr>\n",
       "  </thead>\n",
       "  <tbody>\n",
       "    <tr>\n",
       "      <th>0</th>\n",
       "      <td>1.0</td>\n",
       "      <td>Chocolate Sandwich Cookies</td>\n",
       "      <td>61</td>\n",
       "      <td>19</td>\n",
       "      <td>CHOCOLATE SANDWICH COOKIES</td>\n",
       "    </tr>\n",
       "    <tr>\n",
       "      <th>1</th>\n",
       "      <td>2.0</td>\n",
       "      <td>All-Seasons Salt</td>\n",
       "      <td>104</td>\n",
       "      <td>13</td>\n",
       "      <td>ALL-SEASONS SALT</td>\n",
       "    </tr>\n",
       "    <tr>\n",
       "      <th>2</th>\n",
       "      <td>3.0</td>\n",
       "      <td>Robust Golden Unsweetened Oolong Tea</td>\n",
       "      <td>94</td>\n",
       "      <td>7</td>\n",
       "      <td>ROBUST GOLDEN UNSWEETENED OOLONG TEA</td>\n",
       "    </tr>\n",
       "    <tr>\n",
       "      <th>3</th>\n",
       "      <td>4.0</td>\n",
       "      <td>Smart Ones Classic Favorites Mini Rigatoni Wit...</td>\n",
       "      <td>38</td>\n",
       "      <td>1</td>\n",
       "      <td>SMART ONES CLASSIC FAVORITES MINI RIGATONI WIT...</td>\n",
       "    </tr>\n",
       "    <tr>\n",
       "      <th>4</th>\n",
       "      <td>5.0</td>\n",
       "      <td>Green Chile Anytime Sauce</td>\n",
       "      <td>5</td>\n",
       "      <td>13</td>\n",
       "      <td>GREEN CHILE ANYTIME SAUCE</td>\n",
       "    </tr>\n",
       "  </tbody>\n",
       "</table>\n",
       "</div>"
      ],
      "text/plain": [
       "   product_id                                       product_name  aisle_id  \\\n",
       "0         1.0                         Chocolate Sandwich Cookies        61   \n",
       "1         2.0                                   All-Seasons Salt       104   \n",
       "2         3.0               Robust Golden Unsweetened Oolong Tea        94   \n",
       "3         4.0  Smart Ones Classic Favorites Mini Rigatoni Wit...        38   \n",
       "4         5.0                          Green Chile Anytime Sauce         5   \n",
       "\n",
       "   department_id                                     product_name_u  \n",
       "0             19                         CHOCOLATE SANDWICH COOKIES  \n",
       "1             13                                   ALL-SEASONS SALT  \n",
       "2              7               ROBUST GOLDEN UNSWEETENED OOLONG TEA  \n",
       "3              1  SMART ONES CLASSIC FAVORITES MINI RIGATONI WIT...  \n",
       "4             13                          GREEN CHILE ANYTIME SAUCE  "
      ]
     },
     "execution_count": null,
     "metadata": {},
     "output_type": "execute_result"
    }
   ],
   "source": [
    "products_2.head()"
   ]
  },
  {
   "cell_type": "markdown",
   "id": "6038c703",
   "metadata": {},
   "source": [
    "Solo se mantienen los productos nan como duplicados, estos se modificaran en su respectivo apartado, mas adelante"
   ]
  },
  {
   "cell_type": "markdown",
   "id": "9da8d293",
   "metadata": {
    "id": "9da8d293"
   },
   "source": [
    "Describe brevemente tus hallazgos y lo que hiciste con ellos.\n",
    "## Proceso \n",
    "1. Verifique si hay filas duplicadas, no se encontró ninguna\n",
    "2. Revise si había product_id duplicados, no se encontró ninguno\n",
    "3. Comprobé si había nombres de producto duplicados, se establecieron en mayúsculas para mantener uniformidad\n",
    "    - Se encontraron 1361 nombres duplicados\n",
    "        -\t1257 son valores Nan, lo cuales no se modificaran sus Ids, ya que estos son productos reales a los que falta registrar\n",
    "        -\tLos 104 valores restantes son duplicados\n",
    "4. Procesos de unificación de Id\n",
    "    1. Proceso independiente\n",
    "        1. Se creo una lista con los product_name duplicados, sin incluir los nombres Nan\n",
    "        2. Ciclo para crear 2 diccionarios\n",
    "\t       * duplicates_names_dict: cuenta con el ‘product_name’:’product_id’ correctos\n",
    "\t       * to_replace: Diccionario con listas anidadas con la estructura ‘product_name’:[’product_id’, incorrectos]\n",
    "        3. sustitución de product_id correcto\n",
    "        4. Eliminación de duplicados por ‘product_id’\n",
    "    2. Proceso tras Investigacion\n",
    "        1.\tGenerar una variable nueva ‘canon_id’ mediante group by y transform para quedarnos con un solo ID, en este caso se eligió el mínimo\n",
    "        2.\tCrear un Df con los Id originales y los correctos, solo de los productos a los que se cambio\n",
    "        3.\tAsignar el Id_canonico al DF products_2(copia)\n",
    "        4.\tEliminar id duplicados\n",
    "\n"
   ]
  },
  {
   "cell_type": "markdown",
   "id": "60f30db1",
   "metadata": {
    "id": "60f30db1"
   },
   "source": [
    "### `departments` data frame"
   ]
  },
  {
   "cell_type": "code",
   "execution_count": 42,
   "id": "fb410ad4-0fbf-4b80-bb09-23fdea79afe3",
   "metadata": {
    "id": "fb410ad4-0fbf-4b80-bb09-23fdea79afe3"
   },
   "outputs": [
    {
     "data": {
      "text/plain": [
       "np.int64(0)"
      ]
     },
     "execution_count": null,
     "metadata": {},
     "output_type": "execute_result"
    }
   ],
   "source": [
    "# Revisa si hay filas totalmente duplicadas\n",
    "departments.duplicated().sum()"
   ]
  },
  {
   "cell_type": "code",
   "execution_count": 43,
   "id": "332b12bb",
   "metadata": {
    "id": "332b12bb"
   },
   "outputs": [
    {
     "data": {
      "text/plain": [
       "np.int64(0)"
      ]
     },
     "execution_count": null,
     "metadata": {},
     "output_type": "execute_result"
    }
   ],
   "source": [
    "# Revisa únicamente si hay IDs duplicadas de departamentos\n",
    "departments['department_id'].duplicated().sum()"
   ]
  },
  {
   "cell_type": "code",
   "execution_count": 44,
   "id": "38551a11",
   "metadata": {},
   "outputs": [
    {
     "data": {
      "text/plain": [
       "np.int64(0)"
      ]
     },
     "execution_count": null,
     "metadata": {},
     "output_type": "execute_result"
    }
   ],
   "source": [
    "# Revisar si hay nombres de departemento duplicadas\n",
    "departments['department'].duplicated().sum()"
   ]
  },
  {
   "cell_type": "markdown",
   "id": "bd30d78e",
   "metadata": {
    "id": "bd30d78e"
   },
   "source": [
    "Describe brevemente tus hallazgos y lo que hiciste con ellos.\n",
    "\n",
    "No se encontraron duplicados totales ni por columna"
   ]
  },
  {
   "cell_type": "markdown",
   "id": "889349c1",
   "metadata": {
    "id": "889349c1"
   },
   "source": [
    "### `aisles` data frame"
   ]
  },
  {
   "cell_type": "code",
   "execution_count": 45,
   "id": "9da89fb9-4679-40f5-ad0d-c34df753a3f8",
   "metadata": {
    "id": "9da89fb9-4679-40f5-ad0d-c34df753a3f8"
   },
   "outputs": [
    {
     "data": {
      "text/plain": [
       "np.int64(0)"
      ]
     },
     "execution_count": null,
     "metadata": {},
     "output_type": "execute_result"
    }
   ],
   "source": [
    "# Revisa si hay filas totalmente duplicadas\n",
    "aisles.duplicated().sum()"
   ]
  },
  {
   "cell_type": "code",
   "execution_count": 46,
   "id": "89eb1d75",
   "metadata": {},
   "outputs": [
    {
     "data": {
      "text/html": [
       "<div>\n",
       "<style scoped>\n",
       "    .dataframe tbody tr th:only-of-type {\n",
       "        vertical-align: middle;\n",
       "    }\n",
       "\n",
       "    .dataframe tbody tr th {\n",
       "        vertical-align: top;\n",
       "    }\n",
       "\n",
       "    .dataframe thead th {\n",
       "        text-align: right;\n",
       "    }\n",
       "</style>\n",
       "<table border=\"1\" class=\"dataframe\">\n",
       "  <thead>\n",
       "    <tr style=\"text-align: right;\">\n",
       "      <th></th>\n",
       "      <th>aisle_id</th>\n",
       "      <th>aisle</th>\n",
       "    </tr>\n",
       "  </thead>\n",
       "  <tbody>\n",
       "    <tr>\n",
       "      <th>0</th>\n",
       "      <td>1</td>\n",
       "      <td>prepared soups salads</td>\n",
       "    </tr>\n",
       "    <tr>\n",
       "      <th>1</th>\n",
       "      <td>2</td>\n",
       "      <td>specialty cheeses</td>\n",
       "    </tr>\n",
       "    <tr>\n",
       "      <th>2</th>\n",
       "      <td>3</td>\n",
       "      <td>energy granola bars</td>\n",
       "    </tr>\n",
       "    <tr>\n",
       "      <th>3</th>\n",
       "      <td>4</td>\n",
       "      <td>instant foods</td>\n",
       "    </tr>\n",
       "    <tr>\n",
       "      <th>4</th>\n",
       "      <td>5</td>\n",
       "      <td>marinades meat preparation</td>\n",
       "    </tr>\n",
       "  </tbody>\n",
       "</table>\n",
       "</div>"
      ],
      "text/plain": [
       "   aisle_id                       aisle\n",
       "0         1       prepared soups salads\n",
       "1         2           specialty cheeses\n",
       "2         3         energy granola bars\n",
       "3         4               instant foods\n",
       "4         5  marinades meat preparation"
      ]
     },
     "execution_count": null,
     "metadata": {},
     "output_type": "execute_result"
    }
   ],
   "source": [
    "aisles.head()"
   ]
  },
  {
   "cell_type": "code",
   "execution_count": 47,
   "id": "da7c2822",
   "metadata": {
    "id": "da7c2822"
   },
   "outputs": [
    {
     "data": {
      "text/plain": [
       "np.int64(0)"
      ]
     },
     "execution_count": null,
     "metadata": {},
     "output_type": "execute_result"
    }
   ],
   "source": [
    "# Revisa únicamente si hay IDs duplicadas de pasillos\n",
    "aisles['aisle_id'].duplicated().sum()"
   ]
  },
  {
   "cell_type": "code",
   "execution_count": 48,
   "id": "af00b9f9",
   "metadata": {},
   "outputs": [
    {
     "data": {
      "text/plain": [
       "np.int64(0)"
      ]
     },
     "execution_count": null,
     "metadata": {},
     "output_type": "execute_result"
    }
   ],
   "source": [
    "# Revisar si hay nombres de pasillo duplicadas\n",
    "aisles['aisle'].duplicated().sum()"
   ]
  },
  {
   "cell_type": "markdown",
   "id": "ac63826f",
   "metadata": {
    "id": "ac63826f"
   },
   "source": [
    "Describe brevemente tus hallazgos y lo que hiciste con ellos.\n",
    "\n",
    "No se encontraron duplicados totales ni por columna"
   ]
  },
  {
   "cell_type": "markdown",
   "id": "274cd06a",
   "metadata": {
    "id": "274cd06a"
   },
   "source": [
    "### `order_products` data frame"
   ]
  },
  {
   "cell_type": "code",
   "execution_count": 49,
   "id": "0be24efe",
   "metadata": {},
   "outputs": [
    {
     "data": {
      "text/html": [
       "<div>\n",
       "<style scoped>\n",
       "    .dataframe tbody tr th:only-of-type {\n",
       "        vertical-align: middle;\n",
       "    }\n",
       "\n",
       "    .dataframe tbody tr th {\n",
       "        vertical-align: top;\n",
       "    }\n",
       "\n",
       "    .dataframe thead th {\n",
       "        text-align: right;\n",
       "    }\n",
       "</style>\n",
       "<table border=\"1\" class=\"dataframe\">\n",
       "  <thead>\n",
       "    <tr style=\"text-align: right;\">\n",
       "      <th></th>\n",
       "      <th>order_id</th>\n",
       "      <th>product_id</th>\n",
       "      <th>add_to_cart_order</th>\n",
       "      <th>reordered</th>\n",
       "    </tr>\n",
       "  </thead>\n",
       "  <tbody>\n",
       "    <tr>\n",
       "      <th>0</th>\n",
       "      <td>2141543</td>\n",
       "      <td>11440</td>\n",
       "      <td>17.0</td>\n",
       "      <td>0</td>\n",
       "    </tr>\n",
       "    <tr>\n",
       "      <th>1</th>\n",
       "      <td>567889</td>\n",
       "      <td>1560</td>\n",
       "      <td>1.0</td>\n",
       "      <td>1</td>\n",
       "    </tr>\n",
       "    <tr>\n",
       "      <th>2</th>\n",
       "      <td>2261212</td>\n",
       "      <td>26683</td>\n",
       "      <td>1.0</td>\n",
       "      <td>1</td>\n",
       "    </tr>\n",
       "    <tr>\n",
       "      <th>3</th>\n",
       "      <td>491251</td>\n",
       "      <td>8670</td>\n",
       "      <td>35.0</td>\n",
       "      <td>1</td>\n",
       "    </tr>\n",
       "    <tr>\n",
       "      <th>4</th>\n",
       "      <td>2571142</td>\n",
       "      <td>1940</td>\n",
       "      <td>5.0</td>\n",
       "      <td>1</td>\n",
       "    </tr>\n",
       "  </tbody>\n",
       "</table>\n",
       "</div>"
      ],
      "text/plain": [
       "   order_id  product_id  add_to_cart_order  reordered\n",
       "0   2141543       11440               17.0          0\n",
       "1    567889        1560                1.0          1\n",
       "2   2261212       26683                1.0          1\n",
       "3    491251        8670               35.0          1\n",
       "4   2571142        1940                5.0          1"
      ]
     },
     "execution_count": null,
     "metadata": {},
     "output_type": "execute_result"
    }
   ],
   "source": [
    "order_products.head()"
   ]
  },
  {
   "cell_type": "code",
   "execution_count": 50,
   "id": "52326689-84a8-4b8f-a881-7c68780f62c9",
   "metadata": {
    "id": "52326689-84a8-4b8f-a881-7c68780f62c9"
   },
   "outputs": [
    {
     "data": {
      "text/plain": [
       "np.int64(0)"
      ]
     },
     "execution_count": null,
     "metadata": {},
     "output_type": "execute_result"
    }
   ],
   "source": [
    "# Revisa si hay filas totalmente duplicadas\n",
    "order_products.duplicated().sum()"
   ]
  },
  {
   "cell_type": "code",
   "execution_count": 51,
   "id": "7b861391",
   "metadata": {
    "id": "7b861391"
   },
   "outputs": [
    {
     "data": {
      "text/plain": [
       "np.int64(4094961)"
      ]
     },
     "execution_count": null,
     "metadata": {},
     "output_type": "execute_result"
    }
   ],
   "source": [
    "# Vuelve a verificar si hay cualquier otro duplicado engañoso\n",
    "\n",
    "order_products['order_id'].duplicated().sum()"
   ]
  },
  {
   "cell_type": "code",
   "execution_count": 52,
   "id": "4efaab20",
   "metadata": {},
   "outputs": [
    {
     "data": {
      "text/plain": [
       "np.int64(4499434)"
      ]
     },
     "execution_count": null,
     "metadata": {},
     "output_type": "execute_result"
    }
   ],
   "source": [
    "order_products['product_id'].duplicated().sum()"
   ]
  },
  {
   "cell_type": "code",
   "execution_count": 53,
   "id": "55e20747",
   "metadata": {},
   "outputs": [
    {
     "data": {
      "text/plain": [
       "np.int64(0)"
      ]
     },
     "execution_count": null,
     "metadata": {},
     "output_type": "execute_result"
    }
   ],
   "source": [
    "order_products[['product_id','order_id']].duplicated().sum()"
   ]
  },
  {
   "cell_type": "markdown",
   "id": "0b890492",
   "metadata": {
    "id": "0b890492"
   },
   "source": [
    "Describe brevemente tus hallazgos y lo que hiciste con ellos.\n",
    "\n",
    "Al revisar las columnas por serapado, vemos que hay muchos duplicados, pero es normal por la estructura del DF. Este DF no tiene una primery key, este esta consituido por estructurado por dos identificadores externos, product_id y order_id.\n",
    "\n",
    "En esencia una order_id puede llvar varios productos diferentes, es por eso que se repiten.\n",
    "\n",
    "Para ver si habia ordenes con producto duplicados se reviso solo esa seccion y vemos que no tienen duplicados. Pero se tiene que arreglar los product_id incorrectos que se cambiaron en el proceso de unificacion."
   ]
  },
  {
   "cell_type": "markdown",
   "id": "aa906e7a",
   "metadata": {},
   "source": [
    "## Proceso 1"
   ]
  },
  {
   "cell_type": "code",
   "execution_count": 54,
   "id": "2ca990d3",
   "metadata": {},
   "outputs": [],
   "source": [
    "# Diccionario con nombre y id de producto correctos\n",
    "order_products_2 = order_products.copy()"
   ]
  },
  {
   "cell_type": "code",
   "execution_count": 55,
   "id": "e797f7f6",
   "metadata": {},
   "outputs": [],
   "source": [
    "for key, value in to_replace.items():\n",
    "    order_products['product_id'] = order_products['product_id'].replace(to_replace[key],correct_id[key])\n",
    "\n",
    "    "
   ]
  },
  {
   "cell_type": "markdown",
   "id": "0ff731da",
   "metadata": {},
   "source": [
    "## Proceso 2"
   ]
  },
  {
   "cell_type": "code",
   "execution_count": 56,
   "id": "832cc3c8",
   "metadata": {},
   "outputs": [],
   "source": [
    "mapping_df = (\n",
    "    tmp.loc[tmp[\"product_id\"] != tmp[\"product_id_canon\"], [\"product_id\", \"product_id_canon\"]] #Filtrar tmp product_id != product_id_canon\n",
    "      .drop_duplicates() #eliminar duplicados, si es que hay\n",
    "      .rename(columns={\"product_id\": \"old_id\", \"product_id_canon\": \"new_id\"}) # Renombrar columnas\n",
    ")\n",
    "\n",
    "id_map = dict(zip(mapping_df[\"old_id\"], mapping_df[\"new_id\"])) #crear diccionario\n",
    "# zip() empareja las columnas \n",
    "# dict() crea el diccionario"
   ]
  },
  {
   "cell_type": "code",
   "execution_count": 57,
   "id": "165b6326",
   "metadata": {},
   "outputs": [],
   "source": [
    "order_products_2[\"product_id\"] = order_products[\"product_id\"].replace(id_map)"
   ]
  },
  {
   "cell_type": "markdown",
   "id": "f8f11d0a",
   "metadata": {},
   "source": [
    "Al comparar los procesos 1 y 2, podemos ver que el el segundo es mucho mas eficiente que el primero pero con ambos llegamos al mismo resultado. La diferencia recae en el poder de la indexacion, ya que no utilizamos ciclos que entorpecen el tiempo computacional.\n"
   ]
  },
  {
   "cell_type": "markdown",
   "id": "1e46de76",
   "metadata": {
    "id": "1e46de76"
   },
   "source": [
    "## Encuentra y elimina los valores ausentes\n",
    "\n",
    "Al trabajar con valores duplicados, pudimos observar que también nos falta investigar valores ausentes:\n",
    "\n",
    "* La columna `'product_name'` de la tabla products.\n",
    "* La columna `'days_since_prior_order'` de la tabla orders.\n",
    "* La columna `'add_to_cart_order'` de la tabla order_productos."
   ]
  },
  {
   "cell_type": "markdown",
   "id": "c0aebd78",
   "metadata": {
    "id": "c0aebd78"
   },
   "source": [
    "### `products` data frame"
   ]
  },
  {
   "cell_type": "code",
   "execution_count": 58,
   "id": "fe4a8b0f",
   "metadata": {
    "id": "fe4a8b0f"
   },
   "outputs": [
    {
     "data": {
      "text/plain": [
       "product_id           0\n",
       "product_name      1258\n",
       "aisle_id             0\n",
       "department_id        0\n",
       "product_name_u    1258\n",
       "dtype: int64"
      ]
     },
     "execution_count": null,
     "metadata": {},
     "output_type": "execute_result"
    }
   ],
   "source": [
    "# Encuentra los valores ausentes en la columna 'product_name'\n",
    "products.isna().sum()"
   ]
  },
  {
   "cell_type": "markdown",
   "id": "-A6x1AbJhjkp",
   "metadata": {
    "id": "-A6x1AbJhjkp"
   },
   "source": [
    "Describe brevemente cuáles son tus hallazgos.\n",
    "\n",
    "Como ya se habia descubierto anteriormente hay 1258 valores Nan en 'product_name'"
   ]
  },
  {
   "cell_type": "code",
   "execution_count": 59,
   "id": "e96167bc",
   "metadata": {
    "id": "e96167bc"
   },
   "outputs": [
    {
     "data": {
      "text/html": [
       "<div>\n",
       "<style scoped>\n",
       "    .dataframe tbody tr th:only-of-type {\n",
       "        vertical-align: middle;\n",
       "    }\n",
       "\n",
       "    .dataframe tbody tr th {\n",
       "        vertical-align: top;\n",
       "    }\n",
       "\n",
       "    .dataframe thead th {\n",
       "        text-align: right;\n",
       "    }\n",
       "</style>\n",
       "<table border=\"1\" class=\"dataframe\">\n",
       "  <thead>\n",
       "    <tr style=\"text-align: right;\">\n",
       "      <th></th>\n",
       "      <th>product_id</th>\n",
       "      <th>product_name</th>\n",
       "      <th>aisle_id</th>\n",
       "      <th>department_id</th>\n",
       "      <th>product_name_u</th>\n",
       "    </tr>\n",
       "  </thead>\n",
       "  <tbody>\n",
       "    <tr>\n",
       "      <th>37</th>\n",
       "      <td>38</td>\n",
       "      <td>NaN</td>\n",
       "      <td>100</td>\n",
       "      <td>21</td>\n",
       "      <td>NaN</td>\n",
       "    </tr>\n",
       "    <tr>\n",
       "      <th>71</th>\n",
       "      <td>72</td>\n",
       "      <td>NaN</td>\n",
       "      <td>100</td>\n",
       "      <td>21</td>\n",
       "      <td>NaN</td>\n",
       "    </tr>\n",
       "    <tr>\n",
       "      <th>109</th>\n",
       "      <td>110</td>\n",
       "      <td>NaN</td>\n",
       "      <td>100</td>\n",
       "      <td>21</td>\n",
       "      <td>NaN</td>\n",
       "    </tr>\n",
       "    <tr>\n",
       "      <th>296</th>\n",
       "      <td>297</td>\n",
       "      <td>NaN</td>\n",
       "      <td>100</td>\n",
       "      <td>21</td>\n",
       "      <td>NaN</td>\n",
       "    </tr>\n",
       "    <tr>\n",
       "      <th>416</th>\n",
       "      <td>417</td>\n",
       "      <td>NaN</td>\n",
       "      <td>100</td>\n",
       "      <td>21</td>\n",
       "      <td>NaN</td>\n",
       "    </tr>\n",
       "    <tr>\n",
       "      <th>...</th>\n",
       "      <td>...</td>\n",
       "      <td>...</td>\n",
       "      <td>...</td>\n",
       "      <td>...</td>\n",
       "      <td>...</td>\n",
       "    </tr>\n",
       "    <tr>\n",
       "      <th>49552</th>\n",
       "      <td>49553</td>\n",
       "      <td>NaN</td>\n",
       "      <td>100</td>\n",
       "      <td>21</td>\n",
       "      <td>NaN</td>\n",
       "    </tr>\n",
       "    <tr>\n",
       "      <th>49574</th>\n",
       "      <td>49575</td>\n",
       "      <td>NaN</td>\n",
       "      <td>100</td>\n",
       "      <td>21</td>\n",
       "      <td>NaN</td>\n",
       "    </tr>\n",
       "    <tr>\n",
       "      <th>49640</th>\n",
       "      <td>49641</td>\n",
       "      <td>NaN</td>\n",
       "      <td>100</td>\n",
       "      <td>21</td>\n",
       "      <td>NaN</td>\n",
       "    </tr>\n",
       "    <tr>\n",
       "      <th>49663</th>\n",
       "      <td>49664</td>\n",
       "      <td>NaN</td>\n",
       "      <td>100</td>\n",
       "      <td>21</td>\n",
       "      <td>NaN</td>\n",
       "    </tr>\n",
       "    <tr>\n",
       "      <th>49668</th>\n",
       "      <td>49669</td>\n",
       "      <td>NaN</td>\n",
       "      <td>100</td>\n",
       "      <td>21</td>\n",
       "      <td>NaN</td>\n",
       "    </tr>\n",
       "  </tbody>\n",
       "</table>\n",
       "<p>1258 rows × 5 columns</p>\n",
       "</div>"
      ],
      "text/plain": [
       "       product_id product_name  aisle_id  department_id product_name_u\n",
       "37             38          NaN       100             21            NaN\n",
       "71             72          NaN       100             21            NaN\n",
       "109           110          NaN       100             21            NaN\n",
       "296           297          NaN       100             21            NaN\n",
       "416           417          NaN       100             21            NaN\n",
       "...           ...          ...       ...            ...            ...\n",
       "49552       49553          NaN       100             21            NaN\n",
       "49574       49575          NaN       100             21            NaN\n",
       "49640       49641          NaN       100             21            NaN\n",
       "49663       49664          NaN       100             21            NaN\n",
       "49668       49669          NaN       100             21            NaN\n",
       "\n",
       "[1258 rows x 5 columns]"
      ]
     },
     "execution_count": null,
     "metadata": {},
     "output_type": "execute_result"
    }
   ],
   "source": [
    "#  ¿Todos los nombres de productos ausentes están relacionados con el pasillo con ID 100?\n",
    "products[products['aisle_id']==100]\n"
   ]
  },
  {
   "cell_type": "markdown",
   "id": "WRpIfXRphpSL",
   "metadata": {
    "id": "WRpIfXRphpSL"
   },
   "source": [
    "Describe brevemente cuáles son tus hallazgos.\n",
    "\n",
    "Todos los valores faltantes se enuectran en el aisle_id 100"
   ]
  },
  {
   "cell_type": "code",
   "execution_count": 60,
   "id": "8fd0a541",
   "metadata": {
    "id": "8fd0a541"
   },
   "outputs": [
    {
     "data": {
      "text/html": [
       "<div>\n",
       "<style scoped>\n",
       "    .dataframe tbody tr th:only-of-type {\n",
       "        vertical-align: middle;\n",
       "    }\n",
       "\n",
       "    .dataframe tbody tr th {\n",
       "        vertical-align: top;\n",
       "    }\n",
       "\n",
       "    .dataframe thead th {\n",
       "        text-align: right;\n",
       "    }\n",
       "</style>\n",
       "<table border=\"1\" class=\"dataframe\">\n",
       "  <thead>\n",
       "    <tr style=\"text-align: right;\">\n",
       "      <th></th>\n",
       "      <th>product_id</th>\n",
       "      <th>product_name</th>\n",
       "      <th>aisle_id</th>\n",
       "      <th>department_id</th>\n",
       "      <th>product_name_u</th>\n",
       "    </tr>\n",
       "  </thead>\n",
       "  <tbody>\n",
       "    <tr>\n",
       "      <th>37</th>\n",
       "      <td>38</td>\n",
       "      <td>NaN</td>\n",
       "      <td>100</td>\n",
       "      <td>21</td>\n",
       "      <td>NaN</td>\n",
       "    </tr>\n",
       "    <tr>\n",
       "      <th>71</th>\n",
       "      <td>72</td>\n",
       "      <td>NaN</td>\n",
       "      <td>100</td>\n",
       "      <td>21</td>\n",
       "      <td>NaN</td>\n",
       "    </tr>\n",
       "    <tr>\n",
       "      <th>109</th>\n",
       "      <td>110</td>\n",
       "      <td>NaN</td>\n",
       "      <td>100</td>\n",
       "      <td>21</td>\n",
       "      <td>NaN</td>\n",
       "    </tr>\n",
       "    <tr>\n",
       "      <th>296</th>\n",
       "      <td>297</td>\n",
       "      <td>NaN</td>\n",
       "      <td>100</td>\n",
       "      <td>21</td>\n",
       "      <td>NaN</td>\n",
       "    </tr>\n",
       "    <tr>\n",
       "      <th>416</th>\n",
       "      <td>417</td>\n",
       "      <td>NaN</td>\n",
       "      <td>100</td>\n",
       "      <td>21</td>\n",
       "      <td>NaN</td>\n",
       "    </tr>\n",
       "    <tr>\n",
       "      <th>...</th>\n",
       "      <td>...</td>\n",
       "      <td>...</td>\n",
       "      <td>...</td>\n",
       "      <td>...</td>\n",
       "      <td>...</td>\n",
       "    </tr>\n",
       "    <tr>\n",
       "      <th>49552</th>\n",
       "      <td>49553</td>\n",
       "      <td>NaN</td>\n",
       "      <td>100</td>\n",
       "      <td>21</td>\n",
       "      <td>NaN</td>\n",
       "    </tr>\n",
       "    <tr>\n",
       "      <th>49574</th>\n",
       "      <td>49575</td>\n",
       "      <td>NaN</td>\n",
       "      <td>100</td>\n",
       "      <td>21</td>\n",
       "      <td>NaN</td>\n",
       "    </tr>\n",
       "    <tr>\n",
       "      <th>49640</th>\n",
       "      <td>49641</td>\n",
       "      <td>NaN</td>\n",
       "      <td>100</td>\n",
       "      <td>21</td>\n",
       "      <td>NaN</td>\n",
       "    </tr>\n",
       "    <tr>\n",
       "      <th>49663</th>\n",
       "      <td>49664</td>\n",
       "      <td>NaN</td>\n",
       "      <td>100</td>\n",
       "      <td>21</td>\n",
       "      <td>NaN</td>\n",
       "    </tr>\n",
       "    <tr>\n",
       "      <th>49668</th>\n",
       "      <td>49669</td>\n",
       "      <td>NaN</td>\n",
       "      <td>100</td>\n",
       "      <td>21</td>\n",
       "      <td>NaN</td>\n",
       "    </tr>\n",
       "  </tbody>\n",
       "</table>\n",
       "<p>1258 rows × 5 columns</p>\n",
       "</div>"
      ],
      "text/plain": [
       "       product_id product_name  aisle_id  department_id product_name_u\n",
       "37             38          NaN       100             21            NaN\n",
       "71             72          NaN       100             21            NaN\n",
       "109           110          NaN       100             21            NaN\n",
       "296           297          NaN       100             21            NaN\n",
       "416           417          NaN       100             21            NaN\n",
       "...           ...          ...       ...            ...            ...\n",
       "49552       49553          NaN       100             21            NaN\n",
       "49574       49575          NaN       100             21            NaN\n",
       "49640       49641          NaN       100             21            NaN\n",
       "49663       49664          NaN       100             21            NaN\n",
       "49668       49669          NaN       100             21            NaN\n",
       "\n",
       "[1258 rows x 5 columns]"
      ]
     },
     "execution_count": null,
     "metadata": {},
     "output_type": "execute_result"
    }
   ],
   "source": [
    "# ¿Todos los nombres de productos ausentes están relacionados con el departamento con ID 21?\n",
    "products[products['department_id']==21]\n"
   ]
  },
  {
   "cell_type": "markdown",
   "id": "qDpdYn1Fht_I",
   "metadata": {
    "id": "qDpdYn1Fht_I"
   },
   "source": [
    "Describe brevemente cuáles son tus hallazgos.\n",
    "\n",
    "Todos los registros con product_name nan se encuentran en el pasillo 100 y el departamento 21.\n",
    "\n",
    "El aisle_id == 100\tdepartment_id == 21 son valores que seguramente no existen y ahi se asginan aquellos productos sin nombre"
   ]
  },
  {
   "cell_type": "code",
   "execution_count": 61,
   "id": "5d512357",
   "metadata": {},
   "outputs": [
    {
     "data": {
      "text/html": [
       "<div>\n",
       "<style scoped>\n",
       "    .dataframe tbody tr th:only-of-type {\n",
       "        vertical-align: middle;\n",
       "    }\n",
       "\n",
       "    .dataframe tbody tr th {\n",
       "        vertical-align: top;\n",
       "    }\n",
       "\n",
       "    .dataframe thead th {\n",
       "        text-align: right;\n",
       "    }\n",
       "</style>\n",
       "<table border=\"1\" class=\"dataframe\">\n",
       "  <thead>\n",
       "    <tr style=\"text-align: right;\">\n",
       "      <th></th>\n",
       "      <th>department_id</th>\n",
       "      <th>department</th>\n",
       "    </tr>\n",
       "  </thead>\n",
       "  <tbody>\n",
       "    <tr>\n",
       "      <th>20</th>\n",
       "      <td>21</td>\n",
       "      <td>missing</td>\n",
       "    </tr>\n",
       "  </tbody>\n",
       "</table>\n",
       "</div>"
      ],
      "text/plain": [
       "    department_id department\n",
       "20             21    missing"
      ]
     },
     "execution_count": null,
     "metadata": {},
     "output_type": "execute_result"
    }
   ],
   "source": [
    "departments[departments['department_id'] == 21]"
   ]
  },
  {
   "cell_type": "code",
   "execution_count": 62,
   "id": "b185ec23",
   "metadata": {},
   "outputs": [
    {
     "data": {
      "text/html": [
       "<div>\n",
       "<style scoped>\n",
       "    .dataframe tbody tr th:only-of-type {\n",
       "        vertical-align: middle;\n",
       "    }\n",
       "\n",
       "    .dataframe tbody tr th {\n",
       "        vertical-align: top;\n",
       "    }\n",
       "\n",
       "    .dataframe thead th {\n",
       "        text-align: right;\n",
       "    }\n",
       "</style>\n",
       "<table border=\"1\" class=\"dataframe\">\n",
       "  <thead>\n",
       "    <tr style=\"text-align: right;\">\n",
       "      <th></th>\n",
       "      <th>aisle_id</th>\n",
       "      <th>aisle</th>\n",
       "    </tr>\n",
       "  </thead>\n",
       "  <tbody>\n",
       "    <tr>\n",
       "      <th>99</th>\n",
       "      <td>100</td>\n",
       "      <td>missing</td>\n",
       "    </tr>\n",
       "  </tbody>\n",
       "</table>\n",
       "</div>"
      ],
      "text/plain": [
       "    aisle_id    aisle\n",
       "99       100  missing"
      ]
     },
     "execution_count": null,
     "metadata": {},
     "output_type": "execute_result"
    }
   ],
   "source": [
    "aisles[aisles['aisle_id'] == 100]"
   ]
  },
  {
   "cell_type": "markdown",
   "id": "nqhSTUPhhvEJ",
   "metadata": {
    "id": "nqhSTUPhhvEJ"
   },
   "source": [
    "Describe brevemente cuáles son tus hallazgos.\n",
    "\n",
    "El departamento 21 y pasillo 100 son dedicados a registros en los que no se cuenta con el nombre del producto o ubicacion desconocida"
   ]
  },
  {
   "cell_type": "code",
   "execution_count": 63,
   "id": "43f817f2",
   "metadata": {},
   "outputs": [
    {
     "data": {
      "text/html": [
       "<div>\n",
       "<style scoped>\n",
       "    .dataframe tbody tr th:only-of-type {\n",
       "        vertical-align: middle;\n",
       "    }\n",
       "\n",
       "    .dataframe tbody tr th {\n",
       "        vertical-align: top;\n",
       "    }\n",
       "\n",
       "    .dataframe thead th {\n",
       "        text-align: right;\n",
       "    }\n",
       "</style>\n",
       "<table border=\"1\" class=\"dataframe\">\n",
       "  <thead>\n",
       "    <tr style=\"text-align: right;\">\n",
       "      <th></th>\n",
       "      <th>product_id</th>\n",
       "      <th>product_name</th>\n",
       "      <th>aisle_id</th>\n",
       "      <th>department_id</th>\n",
       "      <th>product_name_u</th>\n",
       "    </tr>\n",
       "  </thead>\n",
       "  <tbody>\n",
       "    <tr>\n",
       "      <th>0</th>\n",
       "      <td>1</td>\n",
       "      <td>Chocolate Sandwich Cookies</td>\n",
       "      <td>61</td>\n",
       "      <td>19</td>\n",
       "      <td>CHOCOLATE SANDWICH COOKIES</td>\n",
       "    </tr>\n",
       "    <tr>\n",
       "      <th>1</th>\n",
       "      <td>2</td>\n",
       "      <td>All-Seasons Salt</td>\n",
       "      <td>104</td>\n",
       "      <td>13</td>\n",
       "      <td>ALL-SEASONS SALT</td>\n",
       "    </tr>\n",
       "    <tr>\n",
       "      <th>2</th>\n",
       "      <td>3</td>\n",
       "      <td>Robust Golden Unsweetened Oolong Tea</td>\n",
       "      <td>94</td>\n",
       "      <td>7</td>\n",
       "      <td>ROBUST GOLDEN UNSWEETENED OOLONG TEA</td>\n",
       "    </tr>\n",
       "    <tr>\n",
       "      <th>3</th>\n",
       "      <td>4</td>\n",
       "      <td>Smart Ones Classic Favorites Mini Rigatoni Wit...</td>\n",
       "      <td>38</td>\n",
       "      <td>1</td>\n",
       "      <td>SMART ONES CLASSIC FAVORITES MINI RIGATONI WIT...</td>\n",
       "    </tr>\n",
       "    <tr>\n",
       "      <th>4</th>\n",
       "      <td>5</td>\n",
       "      <td>Green Chile Anytime Sauce</td>\n",
       "      <td>5</td>\n",
       "      <td>13</td>\n",
       "      <td>GREEN CHILE ANYTIME SAUCE</td>\n",
       "    </tr>\n",
       "  </tbody>\n",
       "</table>\n",
       "</div>"
      ],
      "text/plain": [
       "   product_id                                       product_name  aisle_id  \\\n",
       "0           1                         Chocolate Sandwich Cookies        61   \n",
       "1           2                                   All-Seasons Salt       104   \n",
       "2           3               Robust Golden Unsweetened Oolong Tea        94   \n",
       "3           4  Smart Ones Classic Favorites Mini Rigatoni Wit...        38   \n",
       "4           5                          Green Chile Anytime Sauce         5   \n",
       "\n",
       "   department_id                                     product_name_u  \n",
       "0             19                         CHOCOLATE SANDWICH COOKIES  \n",
       "1             13                                   ALL-SEASONS SALT  \n",
       "2              7               ROBUST GOLDEN UNSWEETENED OOLONG TEA  \n",
       "3              1  SMART ONES CLASSIC FAVORITES MINI RIGATONI WIT...  \n",
       "4             13                          GREEN CHILE ANYTIME SAUCE  "
      ]
     },
     "execution_count": null,
     "metadata": {},
     "output_type": "execute_result"
    }
   ],
   "source": [
    "products.head()"
   ]
  },
  {
   "cell_type": "code",
   "execution_count": 64,
   "id": "6b295120",
   "metadata": {
    "id": "6b295120"
   },
   "outputs": [],
   "source": [
    "# Completa los nombres de productos ausentes con 'Unknown'\n",
    "products['product_name'] = products['product_name_u'].replace(np.nan, 'Unknown')\n",
    "\n",
    "products = products.drop(columns=['product_name_u'])"
   ]
  },
  {
   "cell_type": "code",
   "execution_count": 65,
   "id": "5242ee65",
   "metadata": {},
   "outputs": [
    {
     "data": {
      "text/plain": [
       "product_name\n",
       "Unknown    1257\n",
       "Name: count, dtype: int64"
      ]
     },
     "execution_count": null,
     "metadata": {},
     "output_type": "execute_result"
    }
   ],
   "source": [
    "products[products['product_name'].duplicated()]['product_name'].value_counts(sort=True, ascending=False, dropna=False)"
   ]
  },
  {
   "cell_type": "code",
   "execution_count": 66,
   "id": "74878606",
   "metadata": {},
   "outputs": [
    {
     "data": {
      "text/html": [
       "<div>\n",
       "<style scoped>\n",
       "    .dataframe tbody tr th:only-of-type {\n",
       "        vertical-align: middle;\n",
       "    }\n",
       "\n",
       "    .dataframe tbody tr th {\n",
       "        vertical-align: top;\n",
       "    }\n",
       "\n",
       "    .dataframe thead th {\n",
       "        text-align: right;\n",
       "    }\n",
       "</style>\n",
       "<table border=\"1\" class=\"dataframe\">\n",
       "  <thead>\n",
       "    <tr style=\"text-align: right;\">\n",
       "      <th></th>\n",
       "      <th>product_id</th>\n",
       "      <th>product_name</th>\n",
       "      <th>aisle_id</th>\n",
       "      <th>department_id</th>\n",
       "    </tr>\n",
       "  </thead>\n",
       "  <tbody>\n",
       "    <tr>\n",
       "      <th>0</th>\n",
       "      <td>1</td>\n",
       "      <td>CHOCOLATE SANDWICH COOKIES</td>\n",
       "      <td>61</td>\n",
       "      <td>19</td>\n",
       "    </tr>\n",
       "    <tr>\n",
       "      <th>1</th>\n",
       "      <td>2</td>\n",
       "      <td>ALL-SEASONS SALT</td>\n",
       "      <td>104</td>\n",
       "      <td>13</td>\n",
       "    </tr>\n",
       "    <tr>\n",
       "      <th>2</th>\n",
       "      <td>3</td>\n",
       "      <td>ROBUST GOLDEN UNSWEETENED OOLONG TEA</td>\n",
       "      <td>94</td>\n",
       "      <td>7</td>\n",
       "    </tr>\n",
       "    <tr>\n",
       "      <th>3</th>\n",
       "      <td>4</td>\n",
       "      <td>SMART ONES CLASSIC FAVORITES MINI RIGATONI WIT...</td>\n",
       "      <td>38</td>\n",
       "      <td>1</td>\n",
       "    </tr>\n",
       "    <tr>\n",
       "      <th>4</th>\n",
       "      <td>5</td>\n",
       "      <td>GREEN CHILE ANYTIME SAUCE</td>\n",
       "      <td>5</td>\n",
       "      <td>13</td>\n",
       "    </tr>\n",
       "  </tbody>\n",
       "</table>\n",
       "</div>"
      ],
      "text/plain": [
       "   product_id                                       product_name  aisle_id  \\\n",
       "0           1                         CHOCOLATE SANDWICH COOKIES        61   \n",
       "1           2                                   ALL-SEASONS SALT       104   \n",
       "2           3               ROBUST GOLDEN UNSWEETENED OOLONG TEA        94   \n",
       "3           4  SMART ONES CLASSIC FAVORITES MINI RIGATONI WIT...        38   \n",
       "4           5                          GREEN CHILE ANYTIME SAUCE         5   \n",
       "\n",
       "   department_id  \n",
       "0             19  \n",
       "1             13  \n",
       "2              7  \n",
       "3              1  \n",
       "4             13  "
      ]
     },
     "execution_count": null,
     "metadata": {},
     "output_type": "execute_result"
    }
   ],
   "source": [
    "products.head()"
   ]
  },
  {
   "cell_type": "markdown",
   "id": "fc70e5ad",
   "metadata": {
    "id": "fc70e5ad"
   },
   "source": [
    "Describe brevemente tus hallazgos y lo que hiciste con ellos.\n",
    "\n",
    "Se reviso los valores faltantes en 'product_name' encontrados anteriormente, se descubrio revisando las tablas de aisles y departments que los id 100 y 21 respectivamente son apartados para valores faltantes."
   ]
  },
  {
   "cell_type": "markdown",
   "id": "7eb45c86",
   "metadata": {
    "id": "7eb45c86"
   },
   "source": [
    "### `orders` data frame"
   ]
  },
  {
   "cell_type": "code",
   "execution_count": 67,
   "id": "e249d10e",
   "metadata": {},
   "outputs": [
    {
     "data": {
      "text/html": [
       "<div>\n",
       "<style scoped>\n",
       "    .dataframe tbody tr th:only-of-type {\n",
       "        vertical-align: middle;\n",
       "    }\n",
       "\n",
       "    .dataframe tbody tr th {\n",
       "        vertical-align: top;\n",
       "    }\n",
       "\n",
       "    .dataframe thead th {\n",
       "        text-align: right;\n",
       "    }\n",
       "</style>\n",
       "<table border=\"1\" class=\"dataframe\">\n",
       "  <thead>\n",
       "    <tr style=\"text-align: right;\">\n",
       "      <th></th>\n",
       "      <th>order_id</th>\n",
       "      <th>user_id</th>\n",
       "      <th>order_number</th>\n",
       "      <th>order_dow</th>\n",
       "      <th>order_hour_of_day</th>\n",
       "      <th>days_since_prior_order</th>\n",
       "    </tr>\n",
       "  </thead>\n",
       "  <tbody>\n",
       "    <tr>\n",
       "      <th>0</th>\n",
       "      <td>1515936</td>\n",
       "      <td>183418</td>\n",
       "      <td>11</td>\n",
       "      <td>6</td>\n",
       "      <td>13</td>\n",
       "      <td>30.0</td>\n",
       "    </tr>\n",
       "    <tr>\n",
       "      <th>1</th>\n",
       "      <td>1690866</td>\n",
       "      <td>163593</td>\n",
       "      <td>5</td>\n",
       "      <td>5</td>\n",
       "      <td>12</td>\n",
       "      <td>9.0</td>\n",
       "    </tr>\n",
       "    <tr>\n",
       "      <th>2</th>\n",
       "      <td>1454967</td>\n",
       "      <td>39980</td>\n",
       "      <td>4</td>\n",
       "      <td>5</td>\n",
       "      <td>19</td>\n",
       "      <td>2.0</td>\n",
       "    </tr>\n",
       "    <tr>\n",
       "      <th>3</th>\n",
       "      <td>1768857</td>\n",
       "      <td>82516</td>\n",
       "      <td>56</td>\n",
       "      <td>0</td>\n",
       "      <td>20</td>\n",
       "      <td>10.0</td>\n",
       "    </tr>\n",
       "    <tr>\n",
       "      <th>4</th>\n",
       "      <td>3007858</td>\n",
       "      <td>196724</td>\n",
       "      <td>2</td>\n",
       "      <td>4</td>\n",
       "      <td>12</td>\n",
       "      <td>17.0</td>\n",
       "    </tr>\n",
       "  </tbody>\n",
       "</table>\n",
       "</div>"
      ],
      "text/plain": [
       "   order_id  user_id  order_number  order_dow  order_hour_of_day  \\\n",
       "0   1515936   183418            11          6                 13   \n",
       "1   1690866   163593             5          5                 12   \n",
       "2   1454967    39980             4          5                 19   \n",
       "3   1768857    82516            56          0                 20   \n",
       "4   3007858   196724             2          4                 12   \n",
       "\n",
       "   days_since_prior_order  \n",
       "0                    30.0  \n",
       "1                     9.0  \n",
       "2                     2.0  \n",
       "3                    10.0  \n",
       "4                    17.0  "
      ]
     },
     "execution_count": null,
     "metadata": {},
     "output_type": "execute_result"
    }
   ],
   "source": [
    "orders.head()"
   ]
  },
  {
   "cell_type": "code",
   "execution_count": 68,
   "id": "93e41d96",
   "metadata": {
    "id": "93e41d96"
   },
   "outputs": [
    {
     "data": {
      "text/plain": [
       "order_id                      0\n",
       "user_id                       0\n",
       "order_number                  0\n",
       "order_dow                     0\n",
       "order_hour_of_day             0\n",
       "days_since_prior_order    28817\n",
       "dtype: int64"
      ]
     },
     "execution_count": null,
     "metadata": {},
     "output_type": "execute_result"
    }
   ],
   "source": [
    "# Encuentra los valores ausentes\n",
    "orders.isna().sum()"
   ]
  },
  {
   "cell_type": "code",
   "execution_count": 69,
   "id": "166e5a86",
   "metadata": {
    "id": "166e5a86"
   },
   "outputs": [
    {
     "data": {
      "text/plain": [
       "np.int64(28817)"
      ]
     },
     "execution_count": null,
     "metadata": {},
     "output_type": "execute_result"
    }
   ],
   "source": [
    "# ¿Hay algún valor ausente que no sea el primer pedido del cliente?\n",
    "((orders['order_number'] == 1) & orders['days_since_prior_order'].isna()).sum()"
   ]
  },
  {
   "cell_type": "markdown",
   "id": "4e23d089",
   "metadata": {
    "id": "4e23d089"
   },
   "source": [
    "Describe brevemente tus hallazgos y lo que hiciste con ellos.\n",
    "Se revisaron valores ausentes, habia un total de 28817 en 'days_since_prior_order', esto puede deberse a dos cosas:\n",
    "- Valores faltantes\n",
    "- Primera orden del cliiente, por lo tato debe de estar vacia\n",
    "\n",
    "Se conto el numero de veces que el numero de orden es == 1 y la variable 'days_since_prior_order' es na.\n",
    "- El resultado es el mismo 28817, por lo tanto no son valores ausentes son intencionados."
   ]
  },
  {
   "cell_type": "markdown",
   "id": "69dc9ca4",
   "metadata": {
    "id": "69dc9ca4"
   },
   "source": [
    "### `order_products` data frame"
   ]
  },
  {
   "cell_type": "code",
   "execution_count": 70,
   "id": "b8240253",
   "metadata": {
    "id": "b8240253"
   },
   "outputs": [
    {
     "data": {
      "text/plain": [
       "order_id               0\n",
       "product_id             0\n",
       "add_to_cart_order    836\n",
       "reordered              0\n",
       "dtype: int64"
      ]
     },
     "execution_count": null,
     "metadata": {},
     "output_type": "execute_result"
    }
   ],
   "source": [
    "# Encuentra los valores ausentes\n",
    "order_products.isna().sum()"
   ]
  },
  {
   "cell_type": "code",
   "execution_count": 71,
   "id": "9a78e5ee",
   "metadata": {
    "id": "9a78e5ee"
   },
   "outputs": [
    {
     "data": {
      "text/plain": [
       "min     1.0\n",
       "max    64.0\n",
       "Name: add_to_cart_order, dtype: float64"
      ]
     },
     "execution_count": null,
     "metadata": {},
     "output_type": "execute_result"
    }
   ],
   "source": [
    "# ¿Cuáles son los valores mínimos y máximos en esta columna?\n",
    "order_products['add_to_cart_order'].agg(['min', 'max'])\n"
   ]
  },
  {
   "cell_type": "markdown",
   "id": "-Z2Ja215jW78",
   "metadata": {
    "id": "-Z2Ja215jW78"
   },
   "source": [
    "Describe brevemente cuáles son tus hallazgos.\n",
    "\n",
    "Vemos que la variable 'add_to_cart_order' tiene un maximo de 64 productos, y un minimo de 1."
   ]
  },
  {
   "cell_type": "code",
   "execution_count": 72,
   "id": "ab9d0c2b",
   "metadata": {
    "id": "ab9d0c2b"
   },
   "outputs": [],
   "source": [
    "# Guarda todas las IDs de pedidos que tengan un valor ausente en 'add_to_cart_order'\n",
    "id_orders_cart_na = order_products[order_products['add_to_cart_order'].isna()]['order_id'] # filtro de productos nan, guardar order_id\n",
    "id_orders_cart_na = id_orders_cart_na.drop_duplicates().tolist() # Eliminar duplicados y convertirlo a una lista"
   ]
  },
  {
   "cell_type": "code",
   "execution_count": 73,
   "id": "54c31695",
   "metadata": {
    "id": "54c31695"
   },
   "outputs": [
    {
     "data": {
      "text/plain": [
       "order_id\n",
       "61355      127\n",
       "3308010    115\n",
       "2136777    108\n",
       "171934     104\n",
       "1959075     98\n",
       "          ... \n",
       "888470      65\n",
       "2170451     65\n",
       "2729254     65\n",
       "2621907     65\n",
       "2652650     65\n",
       "Name: product_id, Length: 70, dtype: int64"
      ]
     },
     "execution_count": null,
     "metadata": {},
     "output_type": "execute_result"
    }
   ],
   "source": [
    "# ¿Todos los pedidos con valores ausentes tienen más de 64 productos?\n",
    "# Agrupa todos los pedidos con datos ausentes por su ID de pedido.\n",
    "# Cuenta el número de 'product_id' en cada pedido y revisa el valor mínimo del conteo.\n",
    "add_to_cart_na = order_products[(order_products['order_id'].isin(id_orders_cart_na))] # Crear filtro product_id en la lista id_orders_cart_na\n",
    "add_to_cart_na.groupby(by = 'order_id')['product_id'].count().sort_values(ascending = False) #Agrupacion, conteo y ordenamiento\n",
    "\n"
   ]
  },
  {
   "cell_type": "markdown",
   "id": "p9V6pddtjglj",
   "metadata": {
    "id": "p9V6pddtjglj"
   },
   "source": [
    "Describe brevemente cuáles son tus hallazgos.\n",
    "\n",
    "Vemos que todos los order_id con valores nan en la variable 'add_to_cart_order' cuentan con mas de 64 productos. Al parecer la variable 'add_to_cart_order' esta capada en 64 y aquellos pedidos con mas de 64 productos pierde la continuidad\n"
   ]
  },
  {
   "cell_type": "code",
   "execution_count": 74,
   "id": "7a987d08",
   "metadata": {
    "id": "7a987d08"
   },
   "outputs": [],
   "source": [
    "# Remplaza los valores ausentes en la columna 'add_to_cart_order' con 999 y convierte la columna al tipo entero.\n",
    "order_products['add_to_cart_order'] = order_products['add_to_cart_order'].fillna(999).astype(int)"
   ]
  },
  {
   "cell_type": "code",
   "execution_count": 75,
   "id": "dbba1532",
   "metadata": {},
   "outputs": [
    {
     "name": "stdout",
     "output_type": "stream",
     "text": [
      "<class 'pandas.core.frame.DataFrame'>\n",
      "RangeIndex: 4545007 entries, 0 to 4545006\n",
      "Data columns (total 4 columns):\n",
      " #   Column             Dtype\n",
      "---  ------             -----\n",
      " 0   order_id           int64\n",
      " 1   product_id         int64\n",
      " 2   add_to_cart_order  int64\n",
      " 3   reordered          int64\n",
      "dtypes: int64(4)\n",
      "memory usage: 138.7 MB\n"
     ]
    }
   ],
   "source": [
    "order_products.info()"
   ]
  },
  {
   "cell_type": "markdown",
   "id": "fea4bcc7",
   "metadata": {
    "id": "fea4bcc7"
   },
   "source": [
    "Describe brevemente tus hallazgos y lo que hiciste con ellos.\n",
    "\n",
    "Se cambiaron los valores nan de la variable add_to_cart_order por 999 y se convirtio el tipo de la columna a int"
   ]
  },
  {
   "cell_type": "markdown",
   "id": "RnplPFY1gSrb",
   "metadata": {
    "id": "RnplPFY1gSrb"
   },
   "source": [
    "## Conclusiones\n",
    "\n",
    "Durante el analisis de nulos se identificaron puntos clave sobre la estructura y patrones de los df. En products, los valores nulos de  'product_name' se concentran en un pasillo y departamento especificos reservados para productos sin identificar, estos valores nulos fueron sustituidos con 'unknown'. En orders, los nulos de la variable  'days_since_prior_order' son intencionados, ya que estos representan cuando un cliente hace su primera compra, se conservan para no alterar la logica temporal del df. En 'order_products', los valores nulos de la variable  'add_to_cart_order' se deben a la estructura de la variable, esta capada a 64, esto ocaciona que en ordenes con mas de 64 productos se registren como nulos, se remplazaron con 999 para mantener la concistencia.\n"
   ]
  },
  {
   "cell_type": "markdown",
   "id": "UjrOIwTcz3ri",
   "metadata": {
    "id": "UjrOIwTcz3ri"
   },
   "source": [
    "# Paso 3. Análisis de los datos\n",
    "\n",
    "Una vez los datos estén procesados y listos, haz el siguiente análisis:"
   ]
  },
  {
   "cell_type": "markdown",
   "id": "turkish-kidney",
   "metadata": {
    "id": "turkish-kidney"
   },
   "source": [
    "# [A] Fácil (deben completarse todos para aprobar)\n",
    "\n",
    "1. Verifica que los valores en las columnas `'order_hour_of_day'` y `'order_dow'` en la tabla orders sean razonables (es decir, `'order_hour_of_day'` oscile entre 0 y 23 y `'order_dow'` oscile entre 0 y 6).\n",
    "2. Crea un gráfico que muestre el número de personas que hacen pedidos dependiendo de la hora del día.\n",
    "3. Crea un gráfico que muestre qué día de la semana la gente hace sus compras.\n",
    "4. Crea un gráfico que muestre el tiempo que la gente espera hasta hacer su siguiente pedido, y comenta sobre los valores mínimos y máximos."
   ]
  },
  {
   "cell_type": "markdown",
   "id": "short-capability",
   "metadata": {
    "id": "short-capability"
   },
   "source": [
    "### [A1] Verifica que los valores sean sensibles"
   ]
  },
  {
   "cell_type": "code",
   "execution_count": 76,
   "id": "f50f3ce1",
   "metadata": {},
   "outputs": [
    {
     "data": {
      "text/plain": [
       "min    0\n",
       "max    6\n",
       "Name: order_dow, dtype: int64"
      ]
     },
     "execution_count": null,
     "metadata": {},
     "output_type": "execute_result"
    }
   ],
   "source": [
    "orders['order_dow'].agg(['min','max'])"
   ]
  },
  {
   "cell_type": "code",
   "execution_count": 77,
   "id": "accessory-malaysia",
   "metadata": {
    "id": "accessory-malaysia"
   },
   "outputs": [
    {
     "data": {
      "text/plain": [
       "min     0\n",
       "max    23\n",
       "Name: order_hour_of_day, dtype: int64"
      ]
     },
     "execution_count": null,
     "metadata": {},
     "output_type": "execute_result"
    }
   ],
   "source": [
    "orders['order_hour_of_day'].agg(['min','max'])"
   ]
  },
  {
   "cell_type": "markdown",
   "id": "hmR2GNQ6lCsX",
   "metadata": {
    "id": "hmR2GNQ6lCsX"
   },
   "source": [
    "Escribe aquí tus conclusiones\n",
    "\n",
    "Los valores de las variables order_hour_of_day y order_dow, tienen los rangos correctos 0 a 24 y 0 a 6 respectivamente"
   ]
  },
  {
   "cell_type": "markdown",
   "id": "a6743a70",
   "metadata": {
    "id": "a6743a70"
   },
   "source": [
    "### [A2] Para cada hora del día, ¿cuántas personas hacen órdenes?"
   ]
  },
  {
   "cell_type": "code",
   "execution_count": 78,
   "id": "f96dbfa9",
   "metadata": {},
   "outputs": [
    {
     "data": {
      "text/html": [
       "<div>\n",
       "<style scoped>\n",
       "    .dataframe tbody tr th:only-of-type {\n",
       "        vertical-align: middle;\n",
       "    }\n",
       "\n",
       "    .dataframe tbody tr th {\n",
       "        vertical-align: top;\n",
       "    }\n",
       "\n",
       "    .dataframe thead th {\n",
       "        text-align: right;\n",
       "    }\n",
       "</style>\n",
       "<table border=\"1\" class=\"dataframe\">\n",
       "  <thead>\n",
       "    <tr style=\"text-align: right;\">\n",
       "      <th></th>\n",
       "      <th>order_id</th>\n",
       "      <th>user_id</th>\n",
       "      <th>order_number</th>\n",
       "      <th>order_dow</th>\n",
       "      <th>order_hour_of_day</th>\n",
       "      <th>days_since_prior_order</th>\n",
       "    </tr>\n",
       "  </thead>\n",
       "  <tbody>\n",
       "    <tr>\n",
       "      <th>23</th>\n",
       "      <td>3406282</td>\n",
       "      <td>19356</td>\n",
       "      <td>21</td>\n",
       "      <td>0</td>\n",
       "      <td>0</td>\n",
       "      <td>14.0</td>\n",
       "    </tr>\n",
       "    <tr>\n",
       "      <th>155</th>\n",
       "      <td>957214</td>\n",
       "      <td>111483</td>\n",
       "      <td>15</td>\n",
       "      <td>1</td>\n",
       "      <td>0</td>\n",
       "      <td>9.0</td>\n",
       "    </tr>\n",
       "    <tr>\n",
       "      <th>524</th>\n",
       "      <td>3084302</td>\n",
       "      <td>132558</td>\n",
       "      <td>21</td>\n",
       "      <td>6</td>\n",
       "      <td>0</td>\n",
       "      <td>30.0</td>\n",
       "    </tr>\n",
       "    <tr>\n",
       "      <th>639</th>\n",
       "      <td>3156097</td>\n",
       "      <td>38798</td>\n",
       "      <td>34</td>\n",
       "      <td>6</td>\n",
       "      <td>0</td>\n",
       "      <td>12.0</td>\n",
       "    </tr>\n",
       "    <tr>\n",
       "      <th>886</th>\n",
       "      <td>983672</td>\n",
       "      <td>53782</td>\n",
       "      <td>23</td>\n",
       "      <td>0</td>\n",
       "      <td>0</td>\n",
       "      <td>4.0</td>\n",
       "    </tr>\n",
       "    <tr>\n",
       "      <th>...</th>\n",
       "      <td>...</td>\n",
       "      <td>...</td>\n",
       "      <td>...</td>\n",
       "      <td>...</td>\n",
       "      <td>...</td>\n",
       "      <td>...</td>\n",
       "    </tr>\n",
       "    <tr>\n",
       "      <th>477530</th>\n",
       "      <td>1530369</td>\n",
       "      <td>102815</td>\n",
       "      <td>6</td>\n",
       "      <td>1</td>\n",
       "      <td>0</td>\n",
       "      <td>7.0</td>\n",
       "    </tr>\n",
       "    <tr>\n",
       "      <th>478053</th>\n",
       "      <td>686269</td>\n",
       "      <td>9959</td>\n",
       "      <td>9</td>\n",
       "      <td>2</td>\n",
       "      <td>0</td>\n",
       "      <td>3.0</td>\n",
       "    </tr>\n",
       "    <tr>\n",
       "      <th>478054</th>\n",
       "      <td>1879829</td>\n",
       "      <td>56767</td>\n",
       "      <td>8</td>\n",
       "      <td>6</td>\n",
       "      <td>0</td>\n",
       "      <td>9.0</td>\n",
       "    </tr>\n",
       "    <tr>\n",
       "      <th>478363</th>\n",
       "      <td>1573132</td>\n",
       "      <td>45639</td>\n",
       "      <td>30</td>\n",
       "      <td>5</td>\n",
       "      <td>0</td>\n",
       "      <td>5.0</td>\n",
       "    </tr>\n",
       "    <tr>\n",
       "      <th>478643</th>\n",
       "      <td>2069537</td>\n",
       "      <td>162929</td>\n",
       "      <td>18</td>\n",
       "      <td>2</td>\n",
       "      <td>0</td>\n",
       "      <td>4.0</td>\n",
       "    </tr>\n",
       "  </tbody>\n",
       "</table>\n",
       "<p>3180 rows × 6 columns</p>\n",
       "</div>"
      ],
      "text/plain": [
       "        order_id  user_id  order_number  order_dow  order_hour_of_day  \\\n",
       "23       3406282    19356            21          0                  0   \n",
       "155       957214   111483            15          1                  0   \n",
       "524      3084302   132558            21          6                  0   \n",
       "639      3156097    38798            34          6                  0   \n",
       "886       983672    53782            23          0                  0   \n",
       "...          ...      ...           ...        ...                ...   \n",
       "477530   1530369   102815             6          1                  0   \n",
       "478053    686269     9959             9          2                  0   \n",
       "478054   1879829    56767             8          6                  0   \n",
       "478363   1573132    45639            30          5                  0   \n",
       "478643   2069537   162929            18          2                  0   \n",
       "\n",
       "        days_since_prior_order  \n",
       "23                        14.0  \n",
       "155                        9.0  \n",
       "524                       30.0  \n",
       "639                       12.0  \n",
       "886                        4.0  \n",
       "...                        ...  \n",
       "477530                     7.0  \n",
       "478053                     3.0  \n",
       "478054                     9.0  \n",
       "478363                     5.0  \n",
       "478643                     4.0  \n",
       "\n",
       "[3180 rows x 6 columns]"
      ]
     },
     "execution_count": null,
     "metadata": {},
     "output_type": "execute_result"
    }
   ],
   "source": [
    "#Filtrar\n",
    "orders[orders['order_hour_of_day']==0]"
   ]
  },
  {
   "cell_type": "code",
   "execution_count": 79,
   "id": "f23327c1",
   "metadata": {},
   "outputs": [],
   "source": [
    "clients_per_hour = orders.groupby('order_hour_of_day')['user_id'].count()"
   ]
  },
  {
   "cell_type": "code",
   "execution_count": 80,
   "id": "23a069f0",
   "metadata": {},
   "outputs": [
    {
     "data": {
      "image/png": "[encoded data removed]",
      "text/plain": [
       "<Figure size 640x480 with 1 Axes>"
      ]
     },
     "metadata": {},
     "output_type": "display_data"
    }
   ],
   "source": [
    "\n",
    "clients_per_hour.plot(kind='bar', yticks=range(0,43000,2000), color=\"skyblue\", edgecolor=\"black\",\n",
    "                title = 'Distribucion de cliente que ordenan por hora',\n",
    "                xlabel='Hora del día (0–23)', ylabel='Número de clientes únicos')\n",
    "plt.grid(axis=\"y\", linestyle=\"--\", alpha=0.7)"
   ]
  },
  {
   "cell_type": "markdown",
   "id": "11270eed",
   "metadata": {
    "id": "11270eed"
   },
   "source": [
    "Escribe aquí tus conclusiones\n",
    "\n",
    "La distribución de pedidos a lo largo del día sigue un patrón lógico de consumo. Entre las 9 h y las 17 h se concentra la mayor actividad, alcanzando dos picos principales: alrededor de las 11 h (desayuno) y de las 15 h (comida). En contraste, la madrugada (0 h a 6 h) muestra la menor actividad. Como es de esperar, las órdenes se agrupan en torno a las principales comidas del día, con un descenso moderado a partir de las 18h."
   ]
  },
  {
   "cell_type": "markdown",
   "id": "documented-command",
   "metadata": {
    "id": "documented-command"
   },
   "source": [
    "### [A3] ¿Qué día de la semana compran víveres las personas?"
   ]
  },
  {
   "cell_type": "code",
   "execution_count": 81,
   "id": "chief-digit",
   "metadata": {
    "id": "chief-digit"
   },
   "outputs": [
    {
     "data": {
      "image/png": "[encoded data removed]",
      "text/plain": [
       "<Figure size 640x480 with 1 Axes>"
      ]
     },
     "metadata": {},
     "output_type": "display_data"
    }
   ],
   "source": [
    "clients_per_day = orders.groupby('order_dow')['user_id'].count()\n",
    "\n",
    "\n",
    "clients_per_day.plot(kind='bar', yticks=range(0,86000,5000), color=\"skyblue\", edgecolor=\"black\",\n",
    "                title = 'Distribucion de cliente que ordenan por dia',\n",
    "                xlabel='Dia de la semana(Domingo - Sabado)', ylabel='Número de clientes únicos')\n",
    "plt.grid(axis=\"y\", linestyle=\"--\", alpha=0.7)"
   ]
  },
  {
   "cell_type": "markdown",
   "id": "dominant-lightning",
   "metadata": {
    "id": "dominant-lightning"
   },
   "source": [
    "Escribe aquí tus conclusiones\n",
    "\n",
    "La mayor concentración de pedidos ocurre el domingo (~84 000) y el lunes (~83 000). De martes a sabado la actividad baja considerablemente y osila entre ~60,000-65 000.\n",
    "Este patrón sugiere que los clientes realizan sus compras principales al inicio de la semana, utilizando el domingo  y el lunes como días de preparación y arranque. En consecuencia, estos días resultan los más adecuados para promociones.\n",
    "\n"
   ]
  },
  {
   "cell_type": "markdown",
   "id": "cutting-concert",
   "metadata": {
    "id": "cutting-concert"
   },
   "source": [
    "### [A4] ¿Cuánto tiempo esperan las personas hasta hacer otro pedido? Comenta sobre los valores mínimos y máximos.\n",
    "\n",
    "Crea un gráfico que muestre el tiempo que la gente espera hasta hacer su siguiente pedido, y comenta sobre los valores mínimos y máximos."
   ]
  },
  {
   "cell_type": "code",
   "execution_count": 82,
   "id": "e1d4bda0",
   "metadata": {},
   "outputs": [
    {
     "data": {
      "image/png": "[encoded data removed]",
      "text/plain": [
       "<Figure size 640x480 with 1 Axes>"
      ]
     },
     "metadata": {},
     "output_type": "display_data"
    }
   ],
   "source": [
    "orders.plot(y='days_since_prior_order', kind='hist', bins=30, xticks=range(0,30,2),\n",
    "            title= 'Distribucion de dias entre ordenes', xlabel='Tiempo de espera (dias)', ylabel='Numero de ordenes', \n",
    "            legend=False)\n",
    "plt.grid(axis=\"y\", linestyle=\"--\", alpha=0.7)\n",
    "plt.grid(axis=\"x\", linestyle=\"-\", alpha=0.7)"
   ]
  },
  {
   "cell_type": "code",
   "execution_count": 83,
   "id": "c231f523",
   "metadata": {
    "id": "c231f523"
   },
   "outputs": [
    {
     "data": {
      "text/plain": [
       "min      0.000000\n",
       "max     30.000000\n",
       "mean    11.101814\n",
       "Name: days_since_prior_order, dtype: float64"
      ]
     },
     "execution_count": null,
     "metadata": {},
     "output_type": "execute_result"
    }
   ],
   "source": [
    "orders['days_since_prior_order'].agg(['min','max','mean'])"
   ]
  },
  {
   "cell_type": "markdown",
   "id": "discrete-vertex",
   "metadata": {
    "id": "discrete-vertex"
   },
   "source": [
    "Escribe aquí tus conclusiones\n",
    "\n",
    "La distribución muestra una clara concentración de pedidos entre los 3 y 8 días posteriores a la compra, lo que refleja hábitos de recompra frecuentes. Destacan dos picos específicos: a los 7 días, indicando compras semanales, y a los 30 días, vinculadas a compras mensuales. Estos patrones de consumo regulares son clave para diseñar campañas de marketing dirigidas, ajustadas a la frecuencia de compra de los clientes."
   ]
  },
  {
   "cell_type": "markdown",
   "id": "tight-staff",
   "metadata": {
    "id": "tight-staff"
   },
   "source": [
    "# [B] Intermedio (deben completarse todos para aprobar)\n",
    "\n",
    "1. ¿Existe alguna diferencia entre las distribuciones `'order_hour_of_day'` de los miércoles y los sábados? Traza gráficos de barra de `'order_hour_of_day'` para ambos días en la misma figura y describe las diferencias que observes.\n",
    "2. Grafica la distribución para el número de órdenes que hacen los clientes (es decir, cuántos clientes hicieron solo 1 pedido, cuántos hicieron 2, cuántos 3, y así sucesivamente...).\n",
    "3. ¿Cuáles son los 20 principales productos que se piden con más frecuencia (muestra su identificación y nombre)?"
   ]
  },
  {
   "cell_type": "markdown",
   "id": "packed-classic",
   "metadata": {
    "id": "packed-classic"
   },
   "source": [
    "### [B1] Diferencia entre miércoles y sábados para  `'order_hour_of_day'`. Traza gráficos de barra para los dos días y describe las diferencias que veas."
   ]
  },
  {
   "cell_type": "code",
   "execution_count": 84,
   "id": "797c90a8",
   "metadata": {
    "id": "797c90a8"
   },
   "outputs": [],
   "source": [
    "orders_sw = orders[orders['order_dow'].isin([3,6])][['user_id','order_dow','order_hour_of_day']]\n",
    "\n",
    "clients_sw = orders_sw.groupby(['order_dow','order_hour_of_day'])['user_id'].count()\n",
    "\n",
    "\n",
    "clients_sw = clients_sw.unstack('order_dow').rename(columns={3:'Wendsday',6:'Saturday'})"
   ]
  },
  {
   "cell_type": "code",
   "execution_count": 85,
   "id": "35bcea30",
   "metadata": {
    "id": "35bcea30"
   },
   "outputs": [
    {
     "data": {
      "text/plain": [
       "<Figure size 640x480 with 0 Axes>"
      ]
     },
     "metadata": {},
     "output_type": "display_data"
    },
    {
     "data": {
      "image/png": "[encoded data removed]",
      "text/plain": [
       "<Figure size 640x480 with 1 Axes>"
      ]
     },
     "metadata": {},
     "output_type": "display_data"
    }
   ],
   "source": [
    "plt.figure()\n",
    "\n",
    "clients_sw.plot( kind='bar', alpha = 0.6,\n",
    "                        title='Distribucion de ordenes Miercoles y sabado', xlabel='Hora del dia(24h)', ylabel='Total de clientes')\n",
    "\n",
    "plt.legend(['Wednesday', 'Saturday'])\n",
    "plt.show()"
   ]
  },
  {
   "cell_type": "markdown",
   "id": "charitable-congo",
   "metadata": {
    "id": "charitable-congo"
   },
   "source": [
    "Escribe aquí tus conclusiones\n",
    "\n",
    "La distribución de pedidos en miércoles y sábado a lo largo del día es muy similar: alcanza sus máximos entre las 10 y 11h, se mantiene alta hasta las 16h y luego desciende gradualmente hacia los mínimos de la madrugada. La diferencia principal recae en la franja de 12 a 14h, durante este periodo los pedidos en miércoles disminuyen , lo que sugiere que en días laborales la hora de comida reduce la actividad de compra, mientras que el sábado el nivel se mantiene estable."
   ]
  },
  {
   "cell_type": "markdown",
   "id": "e3891143",
   "metadata": {
    "id": "e3891143"
   },
   "source": [
    "### [B2] ¿Cuál es la distribución para el número de pedidos por cliente?"
   ]
  },
  {
   "cell_type": "code",
   "execution_count": 87,
   "id": "9bdf1312",
   "metadata": {},
   "outputs": [
    {
     "data": {
      "text/html": [
       "<div>\n",
       "<style scoped>\n",
       "    .dataframe tbody tr th:only-of-type {\n",
       "        vertical-align: middle;\n",
       "    }\n",
       "\n",
       "    .dataframe tbody tr th {\n",
       "        vertical-align: top;\n",
       "    }\n",
       "\n",
       "    .dataframe thead th {\n",
       "        text-align: right;\n",
       "    }\n",
       "</style>\n",
       "<table border=\"1\" class=\"dataframe\">\n",
       "  <thead>\n",
       "    <tr style=\"text-align: right;\">\n",
       "      <th></th>\n",
       "      <th>order_id</th>\n",
       "      <th>user_id</th>\n",
       "      <th>order_number</th>\n",
       "      <th>order_dow</th>\n",
       "      <th>order_hour_of_day</th>\n",
       "      <th>days_since_prior_order</th>\n",
       "    </tr>\n",
       "  </thead>\n",
       "  <tbody>\n",
       "    <tr>\n",
       "      <th>0</th>\n",
       "      <td>1515936</td>\n",
       "      <td>183418</td>\n",
       "      <td>11</td>\n",
       "      <td>6</td>\n",
       "      <td>13</td>\n",
       "      <td>30.0</td>\n",
       "    </tr>\n",
       "    <tr>\n",
       "      <th>1</th>\n",
       "      <td>1690866</td>\n",
       "      <td>163593</td>\n",
       "      <td>5</td>\n",
       "      <td>5</td>\n",
       "      <td>12</td>\n",
       "      <td>9.0</td>\n",
       "    </tr>\n",
       "    <tr>\n",
       "      <th>2</th>\n",
       "      <td>1454967</td>\n",
       "      <td>39980</td>\n",
       "      <td>4</td>\n",
       "      <td>5</td>\n",
       "      <td>19</td>\n",
       "      <td>2.0</td>\n",
       "    </tr>\n",
       "    <tr>\n",
       "      <th>3</th>\n",
       "      <td>1768857</td>\n",
       "      <td>82516</td>\n",
       "      <td>56</td>\n",
       "      <td>0</td>\n",
       "      <td>20</td>\n",
       "      <td>10.0</td>\n",
       "    </tr>\n",
       "    <tr>\n",
       "      <th>4</th>\n",
       "      <td>3007858</td>\n",
       "      <td>196724</td>\n",
       "      <td>2</td>\n",
       "      <td>4</td>\n",
       "      <td>12</td>\n",
       "      <td>17.0</td>\n",
       "    </tr>\n",
       "    <tr>\n",
       "      <th>...</th>\n",
       "      <td>...</td>\n",
       "      <td>...</td>\n",
       "      <td>...</td>\n",
       "      <td>...</td>\n",
       "      <td>...</td>\n",
       "      <td>...</td>\n",
       "    </tr>\n",
       "    <tr>\n",
       "      <th>478962</th>\n",
       "      <td>3210681</td>\n",
       "      <td>5617</td>\n",
       "      <td>5</td>\n",
       "      <td>1</td>\n",
       "      <td>14</td>\n",
       "      <td>7.0</td>\n",
       "    </tr>\n",
       "    <tr>\n",
       "      <th>478963</th>\n",
       "      <td>3270802</td>\n",
       "      <td>112087</td>\n",
       "      <td>2</td>\n",
       "      <td>3</td>\n",
       "      <td>13</td>\n",
       "      <td>6.0</td>\n",
       "    </tr>\n",
       "    <tr>\n",
       "      <th>478964</th>\n",
       "      <td>885349</td>\n",
       "      <td>82944</td>\n",
       "      <td>16</td>\n",
       "      <td>2</td>\n",
       "      <td>11</td>\n",
       "      <td>6.0</td>\n",
       "    </tr>\n",
       "    <tr>\n",
       "      <th>478965</th>\n",
       "      <td>216274</td>\n",
       "      <td>4391</td>\n",
       "      <td>3</td>\n",
       "      <td>3</td>\n",
       "      <td>8</td>\n",
       "      <td>8.0</td>\n",
       "    </tr>\n",
       "    <tr>\n",
       "      <th>478966</th>\n",
       "      <td>2071924</td>\n",
       "      <td>1730</td>\n",
       "      <td>18</td>\n",
       "      <td>1</td>\n",
       "      <td>14</td>\n",
       "      <td>15.0</td>\n",
       "    </tr>\n",
       "  </tbody>\n",
       "</table>\n",
       "<p>478952 rows × 6 columns</p>\n",
       "</div>"
      ],
      "text/plain": [
       "        order_id  user_id  order_number  order_dow  order_hour_of_day  \\\n",
       "0        1515936   183418            11          6                 13   \n",
       "1        1690866   163593             5          5                 12   \n",
       "2        1454967    39980             4          5                 19   \n",
       "3        1768857    82516            56          0                 20   \n",
       "4        3007858   196724             2          4                 12   \n",
       "...          ...      ...           ...        ...                ...   \n",
       "478962   3210681     5617             5          1                 14   \n",
       "478963   3270802   112087             2          3                 13   \n",
       "478964    885349    82944            16          2                 11   \n",
       "478965    216274     4391             3          3                  8   \n",
       "478966   2071924     1730            18          1                 14   \n",
       "\n",
       "        days_since_prior_order  \n",
       "0                         30.0  \n",
       "1                          9.0  \n",
       "2                          2.0  \n",
       "3                         10.0  \n",
       "4                         17.0  \n",
       "...                        ...  \n",
       "478962                     7.0  \n",
       "478963                     6.0  \n",
       "478964                     6.0  \n",
       "478965                     8.0  \n",
       "478966                    15.0  \n",
       "\n",
       "[478952 rows x 6 columns]"
      ]
     },
     "execution_count": null,
     "metadata": {},
     "output_type": "execute_result"
    }
   ],
   "source": [
    "orders"
   ]
  },
  {
   "cell_type": "code",
   "execution_count": null,
   "id": "4ea1b371",
   "metadata": {},
   "outputs": [],
   "source": [
    "# Agrupar por usuario y contar ordenes\n",
    "orders['orders_per_client'] =  orders.groupby('user_id')['order_id'].transform('count')"
   ]
  },
  {
   "cell_type": "code",
   "execution_count": null,
   "id": "caec7265",
   "metadata": {},
   "outputs": [],
   "source": [
    "orders['orders_per_client'].describe()"
   ]
  },
  {
   "cell_type": "code",
   "execution_count": null,
   "id": "00e69a66",
   "metadata": {
    "id": "00e69a66"
   },
   "outputs": [],
   "source": [
    "orders.plot(y='orders_per_client',kind='hist',bins=28, color='green', xticks=range(1,29,1), yticks=range(0,75000,5000),\n",
    "                title='Distribucion n° de ordenes por cliente', xlabel='n° de Pedidos', ylabel='n° Clientes',\n",
    "                legend=False, figsize=(9,6))\n",
    "\n",
    "plt.grid(axis=\"y\", linestyle=\"-\", alpha=0.7)\n",
    "plt.grid(axis=\"x\", linestyle=\"--\", alpha=0.7)\n",
    "plt.show()"
   ]
  },
  {
   "cell_type": "markdown",
   "id": "d2eff7d5",
   "metadata": {
    "id": "d2eff7d5"
   },
   "source": [
    "Escribe aquí tus conclusiones\n",
    "\n",
    "La disribucion del numero de ordenes por clientes es una grafica de dispercion con un sesgo muy marcado a la derecha, empieza en los puntos mas altos y baja de manera constante hasta los clientes mas fieles con mas de 15 o hatsta 28 pedidos. El punto mas alto son los clientes con 2 o 3 pedidos totales, es posible que sean nuevos clientes, pero no tenemos datos sobre el tiempo que llevan en la plataforma. Es importante concentrar esfuerzos publicitarios en los clientes con pocos pedidos con el objetivo de generar fidelidad.\n"
   ]
  },
  {
   "cell_type": "markdown",
   "id": "54a0319c",
   "metadata": {
    "id": "54a0319c"
   },
   "source": [
    "### [B3] ¿Cuáles son los 20 productos más populares (muestra su ID y nombre)?"
   ]
  },
  {
   "cell_type": "code",
   "execution_count": null,
   "id": "d8e1f9a0",
   "metadata": {},
   "outputs": [],
   "source": [
    "# Agrupar por 'product_id', y contar cuantas veces aparece 'order_id' \n",
    "order_products['T_ventas'] = order_products.groupby('product_id')['order_id'].transform('count')"
   ]
  },
  {
   "cell_type": "code",
   "execution_count": null,
   "id": "6a6dbb5d",
   "metadata": {},
   "outputs": [],
   "source": [
    "# Eliminar productos duplicados, esto para tener un df con productos unicos\n",
    "top_products = order_products.sort_values('T_ventas', ascending=False).drop_duplicates(subset=['product_id'])"
   ]
  },
  {
   "cell_type": "code",
   "execution_count": null,
   "id": "exterior-arizona",
   "metadata": {
    "id": "exterior-arizona",
    "scrolled": true
   },
   "outputs": [],
   "source": [
    "#Merge para mostrar informacion completa\n",
    "top_products= top_products.merge(products, on='product_id')[['product_id','product_name','T_ventas']]\n",
    "top_products.head(20)"
   ]
  },
  {
   "cell_type": "markdown",
   "id": "7df00f47",
   "metadata": {
    "id": "7df00f47"
   },
   "source": [
    "Escribe aquí tus conclusiones\n",
    "\n",
    "El top 20 esta formado exclusivamente por frutas y verduras. Sin embargo hay una diferencia drastica entre los primeros 2 puestos y los demas, la diferencia entre el primer y vigesimo puesto es de ~50,000 \n",
    "\n",
    "El producto estrella de instacart son las bananas, siendo el top 1(Bananas) con 66050 y top 2(bolsa de bananas organicas) con 53297.\n",
    "\n",
    "La estructura del top 20 sugiere 2 estrategias: \n",
    "1. Fomentar la venta cruzada, ofreciendo paquetes o promociones para la categoria \n",
    "2. Promocionar las frutas y verduras mas debiles del top y aquellas que no llegan a este\n",
    "\n",
    "Esto permitiría diversificar las ventas y reducir la dependencia de unos pocos productos líderes"
   ]
  },
  {
   "cell_type": "markdown",
   "id": "gross-theme",
   "metadata": {
    "id": "gross-theme"
   },
   "source": [
    "# [C] Difícil (deben completarse todos para aprobar)\n",
    "\n",
    "1. ¿Cuántos artículos suelen comprar las personas en un pedido? ¿Cómo es la distribución?\n",
    "2. ¿Cuáles son los 20 principales artículos que vuelven a pedirse con mayor frecuencia (muestra sus nombres e IDs de los productos)?\n",
    "3. Para cada producto, ¿cuál es la tasa de repetición del pedido (número de repeticiones de pedido/total de pedidos?\n",
    "4. Para cada cliente, ¿qué proporción de los productos que pidió ya los había pedido? Calcula la tasa de repetición de pedido para cada usuario en lugar de para cada producto.\n",
    "5. ¿Cuáles son los 20 principales artículos que la gente pone primero en sus carritos (muestra las IDs de los productos, sus nombres, y el número de veces en que fueron el primer artículo en añadirse al carrito)?"
   ]
  },
  {
   "cell_type": "markdown",
   "id": "romantic-deposit",
   "metadata": {
    "id": "romantic-deposit"
   },
   "source": [
    "### [C1] ¿Cuántos artículos compran normalmente las personas en un pedido? ¿Cómo es la distribución?"
   ]
  },
  {
   "cell_type": "code",
   "execution_count": null,
   "id": "878e4eef",
   "metadata": {},
   "outputs": [],
   "source": [
    "order_products['total_products_per_order'] = order_products.groupby('order_id')['product_id'].transform('count')"
   ]
  },
  {
   "cell_type": "code",
   "execution_count": null,
   "id": "virtual-punch",
   "metadata": {
    "id": "virtual-punch"
   },
   "outputs": [],
   "source": [
    "pd.set_option('display.float_format', '{:.2f}'.format)\n",
    "order_products['total_products_per_order'].describe()"
   ]
  },
  {
   "cell_type": "code",
   "execution_count": null,
   "id": "c967b78a",
   "metadata": {},
   "outputs": [],
   "source": [
    "order_products['total_products_per_order'].plot(x='total_products_per_order', kind='box', yticks=range(0,130,15),\n",
    "                                                title='outliers', ylabel='productos por orden',\n",
    "                                                color=dict(boxes='green', whiskers='black', medians='red', caps='gray'),\n",
    "                                                flierprops=dict(markerfacecolor='orange', marker='o', markersize=4, linestyle='none')\n",
    "                                                )\n",
    "plt.grid(axis=\"y\", linestyle=\"--\", alpha=0.7)\n",
    "plt.show()"
   ]
  },
  {
   "cell_type": "code",
   "execution_count": null,
   "id": "sensitive-breathing",
   "metadata": {
    "id": "sensitive-breathing"
   },
   "outputs": [],
   "source": [
    "order_products.plot(y='total_products_per_order', kind='hist',bins = 30,xticks=range(0,130,10), yticks=range(0,1000000,100000),\n",
    "                    title='Distribucion de productos por orden', xlabel='Productos por order', ylabel='n° de ordenes', \n",
    "                    legend=False)\n",
    "plt.grid(axis=\"y\", linestyle=\"--\", alpha=0.7)\n",
    "plt.grid(axis=\"x\", linestyle=\"-\", alpha=0.4)\n",
    "\n",
    "plt.show()"
   ]
  },
  {
   "cell_type": "markdown",
   "id": "designed-mortality",
   "metadata": {
    "id": "designed-mortality"
   },
   "source": [
    "Escribe aquí tus conclusiones\n",
    "\n",
    "La mayor parte de los pedidos se concentran entre 1 y 25 productos con un pico entre 6 y 15 productos con ~850,000 ordenes. Sin embargo, la distribucion esta muy sesgada(skewed) a la derecha, tiene una cola larga que refleja pedidos excepcionalmente grandes. Las ordenes a partir de los 40 productos salen de los limites del boxplot, esto los clasifica como outliers. Este comportamiento de cliente puede corresponder a mayoristas y negocios. Separar este tipo de clientes y hacer un analisis sobre ellos puede resultar beneficioso para campañas dirigidas a este tipo de clientes. "
   ]
  },
  {
   "cell_type": "markdown",
   "id": "5e6b5537",
   "metadata": {
    "id": "5e6b5537"
   },
   "source": [
    "### [C2] ¿Cuáles son los 20 principales artículos que vuelven a pedirse con mayor frecuencia (muestra sus nombres e IDs de los productos)?"
   ]
  },
  {
   "cell_type": "code",
   "execution_count": null,
   "id": "c8c3f71c",
   "metadata": {},
   "outputs": [],
   "source": [
    "# Merge de Dfs orders y order_products\n",
    "order_user_product_id = orders.merge(order_products, on = 'order_id')[['order_id','user_id','product_id']]\n",
    "order_user_product_id.head()"
   ]
  },
  {
   "cell_type": "code",
   "execution_count": null,
   "id": "5edbc9e4",
   "metadata": {},
   "outputs": [],
   "source": [
    "# Agrupacion para contar el numero de veces que aparece la combinacion ['user_id','product_id'] \n",
    "reorders = order_user_product_id.groupby(['user_id','product_id']).count()\n",
    "\n",
    "# Filtrar productos con recompra\n",
    "product_reorders = reorders[reorders['order_id']>1]\n",
    "\n",
    "# Agrupar reordenes por product_id y sumar sus recompras\n",
    "product_reorders = product_reorders.groupby('product_id').sum()\n"
   ]
  },
  {
   "cell_type": "code",
   "execution_count": null,
   "id": "a76f0272",
   "metadata": {},
   "outputs": [],
   "source": [
    "# Merge product_reorders con products, para sacar el nombre del producto y mostrar el top 20\n",
    "top_product_reorders = product_reorders.merge(products, on='product_id')[['product_id','order_id','product_name']]\n",
    "top_product_reorders = top_product_reorders.rename(columns={'order_id':'reorders'})\n",
    "top_product_reorders.sort_values('reorders', ascending=False).head(20)"
   ]
  },
  {
   "cell_type": "markdown",
   "id": "80e70c74",
   "metadata": {
    "id": "80e70c74"
   },
   "source": [
    "Escribe aquí tus conclusiones\n",
    "\n",
    "El top de recompras tiene muchos productos dentro del top de productos, lo que es logico ya que son los mas vendidos.\n",
    "La diferencia de recompra de los primeros puestos es abismal a comparacion de los puestos inferiores alrededor de ~40,000\n",
    "\n",
    "El numero absoluto de recompras son muy inferiores a las ventas totales del top de productos. Esto indica que no basta el volumen absoluto por lo que es conveniente calcular la tasa de recompra para obtener una perspectiva mas clara. Esto nos permitiria visualizar los productos con mayor recurrencia y asi podriamos promocionar estos a personas que no los han probado\n"
   ]
  },
  {
   "cell_type": "markdown",
   "id": "9d312b14",
   "metadata": {
    "id": "9d312b14"
   },
   "source": [
    "### [C3] Para cada producto, ¿cuál es la proporción de las veces que se pide y que se vuelve a pedir?"
   ]
  },
  {
   "cell_type": "code",
   "execution_count": null,
   "id": "8ae9f4b1",
   "metadata": {
    "id": "8ae9f4b1"
   },
   "outputs": [],
   "source": [
    "#Merge de tablas top_products y top_product_reorders\n",
    "rate_reorders =  top_products.merge(top_product_reorders, on='product_id')[['product_id','product_name_x', 'T_ventas','reorders']]\n",
    "rate_reorders.rename(columns={'product_name_x':'product_name'})\n",
    "rate_reorders['reorder_rate'] = rate_reorders['reorders']/rate_reorders['T_ventas']"
   ]
  },
  {
   "cell_type": "code",
   "execution_count": null,
   "id": "103e7fe1",
   "metadata": {
    "id": "103e7fe1"
   },
   "outputs": [],
   "source": [
    "rate_reorders.head(20)"
   ]
  },
  {
   "cell_type": "code",
   "execution_count": null,
   "id": "819b5c4d",
   "metadata": {},
   "outputs": [],
   "source": [
    "promedio_tasa_recompra = rate_reorders.head(20)\n",
    "promedio_tasa_recompra['reorder_rate'].sum()/20"
   ]
  },
  {
   "cell_type": "markdown",
   "id": "I10dEIAyldcO",
   "metadata": {
    "id": "I10dEIAyldcO"
   },
   "source": [
    "Escribe aquí tus conclusiones\n",
    "\n",
    "Las tasas de recompra de los productos top de ventas son muy altas con un promedio de 54.8%, lo que es algo positivo. Vemos que el top 20 tiene tasas superiores al 50%, a excepcion de 3 productos. El top 4 tiene tasas excepcionalmente altas, superiores del 60%. \n",
    "\n",
    "Estos productos cuentan con una lealtad muy alta, lo que nos permite empujar estos productos a clientes que no los han probado. Esto nos permitiria conseguir clientes mas leales.\n",
    "\n",
    "Los productos del top son frutas y verduras por lo que se pueden promocionar con un estilo de vida saludable."
   ]
  },
  {
   "cell_type": "markdown",
   "id": "subject-boxing",
   "metadata": {
    "id": "subject-boxing"
   },
   "source": [
    "### [C4] Para cada cliente, ¿qué proporción de sus productos ya los había pedido?"
   ]
  },
  {
   "cell_type": "code",
   "execution_count": null,
   "id": "b913c188",
   "metadata": {},
   "outputs": [],
   "source": [
    "''' CODIGO ANTERIORMENTE USADO\n",
    "Merge de Dfs orders y order_products\n",
    "order_user_product_id = orders.merge(order_products, on = 'order_id')[['order_id','user_id','product_id']]\n",
    "\n",
    "Agrupacion para contar el numero de veces que aparece la combinacion ['user_id','product_id'] \n",
    "reorders = order_user_product_id.groupby(['user_id','product_id']).count()\n",
    "'''\n",
    "\n",
    "# Groupby 'user_id' y 'product_id'\n",
    "reorders"
   ]
  },
  {
   "cell_type": "code",
   "execution_count": null,
   "id": "8892e4b4",
   "metadata": {
    "id": "8892e4b4"
   },
   "outputs": [],
   "source": [
    "# Sumar total de productos ordenados por cliente\n",
    "T_orders_user = reorders.groupby('user_id')['order_id'].sum()\n",
    "\n",
    "#Filtrando solo recompras por cliente\n",
    "product_reorders = reorders[reorders['order_id']>1]\n",
    "\n",
    "# Sumar productos reordenados por cliente\n",
    "T_reorders_user = product_reorders.groupby('user_id')['order_id'].sum()"
   ]
  },
  {
   "cell_type": "code",
   "execution_count": null,
   "id": "c1e185ac",
   "metadata": {},
   "outputs": [],
   "source": [
    "# Crear diccionario para el DF\n",
    "frame = {'T_Sales':T_orders_user,'T_reorders':T_reorders_user}\n",
    "\n",
    "# Crear el DF\n",
    "sales_reorders_user = pd.DataFrame(frame)\n",
    "\n",
    "# Llenar nulos con 0\n",
    "sales_reorders_user['T_reorders'] = sales_reorders_user['T_reorders'].fillna(0)\n",
    "\n",
    "# Calcular tasa de recomra por cliente\n",
    "sales_reorders_user['rate_reorder']= sales_reorders_user['T_reorders']/sales_reorders_user['T_Sales']\n",
    "\n",
    "sales_reorders_user.sample(10)"
   ]
  },
  {
   "cell_type": "code",
   "execution_count": null,
   "id": "663be147",
   "metadata": {},
   "outputs": [],
   "source": [
    "xticks = [0,0.1,0.2,0.3,0.4,0.5,0.6,0.7,0.8,0.9,1]\n",
    "sales_reorders_user['rate_reorder'].plot(y='rate_reorder',kind='hist', bins=30, xticks=xticks,\n",
    "                                            title= 'Reorder per client', xlabel='Reorder Rate', ylabel='n° clients')\n",
    "plt.show()"
   ]
  },
  {
   "cell_type": "code",
   "execution_count": null,
   "id": "493442ca",
   "metadata": {},
   "outputs": [],
   "source": [
    "sales_reorders_user.describe()"
   ]
  },
  {
   "cell_type": "code",
   "execution_count": null,
   "id": "c8755f29",
   "metadata": {},
   "outputs": [],
   "source": [
    "xticks = [0,0.1,0.2,0.3,0.4,0.5,0.6,0.7,0.8,0.9,1]\n",
    "only_reorders= sales_reorders_user[sales_reorders_user['rate_reorder']!=0]\n",
    "only_reorders['rate_reorder'].plot(y='rate_reorder',kind='hist', bins=20, xticks=xticks,\n",
    "                                            title= 'Reorder per client', xlabel='Reorder Rate', ylabel='n° clients')\n",
    "plt.grid(axis=\"x\", linestyle=\"-\", alpha=0.4)\n",
    "plt.show()"
   ]
  },
  {
   "cell_type": "code",
   "execution_count": null,
   "id": "528dca17",
   "metadata": {},
   "outputs": [],
   "source": [
    "only_reorders.describe()"
   ]
  },
  {
   "cell_type": "code",
   "execution_count": null,
   "id": "eba31d45",
   "metadata": {},
   "outputs": [],
   "source": [
    "percent_0_reorders = float(only_reorders['rate_reorder'].count()/sales_reorders_user['rate_reorder'].count())\n",
    "print(f'El {percent_0_reorders*100:.2f}% de los clientes no tienen productos recurrentes')"
   ]
  },
  {
   "cell_type": "markdown",
   "id": "BgJSvXDsleXz",
   "metadata": {
    "id": "BgJSvXDsleXz"
   },
   "source": [
    "Escribe aquí tus conclusiones\n",
    "\n",
    "La mayor parte de los clientes no tienen ordenes repetidas, concretamente el 55.30%. Esto significa la mayoria de nuestros clientes no tienen fidelidad a los productos. Es probable que estos clientes no hayan probado nuestros productos con mayor tasa de recurencia, hace falta seguir indagando.\n",
    "\n",
    "Entre los clientes que sí realizan recompras, la mayor concentración se encuentra entre tasas de 0.25 a 0.5. lo que indica que la mayoria repiten algunos productos pero no de manera sistematica. La distribucion empieza elevandose de manera muy drastica, hasta llegar a los maximos y despues baja de manera escalonada hasta llegar a 1. \n",
    "\n",
    "Recomendacion: Comparar los productos más comprados por clientes fieles con los de los clientes de una sola compra. Si existen diferencias claras, convendría empujar los productos con alta fidelidad hacia clientes nuevos o poco recurrentes para aumentar la retención\n",
    "\n"
   ]
  },
  {
   "cell_type": "markdown",
   "id": "92d35137",
   "metadata": {
    "id": "92d35137"
   },
   "source": [
    "### [C5] ¿Cuáles son los 20 principales artículos que las personas ponen primero en sus carritos?"
   ]
  },
  {
   "cell_type": "code",
   "execution_count": null,
   "id": "0ae57274",
   "metadata": {
    "id": "0ae57274",
    "scrolled": true
   },
   "outputs": [],
   "source": [
    "first_to_cart = order_products[order_products['add_to_cart_order'] == 1]\n",
    "first_to_cart"
   ]
  },
  {
   "cell_type": "code",
   "execution_count": null,
   "id": "82402074",
   "metadata": {},
   "outputs": [],
   "source": [
    "#Calcular el total de veces que un producto es agregado al carrito primero\n",
    "order_products['first_to_cart_count'] =  order_products.groupby('product_id')['add_to_cart_order'].transform(lambda x: (x==1).sum())"
   ]
  },
  {
   "cell_type": "code",
   "execution_count": null,
   "id": "forty-netherlands",
   "metadata": {
    "id": "forty-netherlands",
    "scrolled": true
   },
   "outputs": [],
   "source": [
    "# Sort y seccionar el DF\n",
    "sort_first_to_cart = order_products.sort_values('first_to_cart_count', ascending=False)[['product_id','first_to_cart_count']]\n",
    "\n",
    "# Eliminar duplicados y unir DFs\n",
    "merge_first_to_cart_products = sort_first_to_cart.drop_duplicates(subset='product_id').merge(products,on='product_id')\n",
    "\n",
    "# Mostrar top 20\n",
    "merge_first_to_cart_products[['product_id','product_name','first_to_cart_count']].head(20) "
   ]
  },
  {
   "cell_type": "markdown",
   "id": "28ce9872",
   "metadata": {
    "id": "28ce9872"
   },
   "source": [
    "Escribe aquí tus conclusiones\n",
    "\n",
    "La lista de productos que los clientes colocan primero en el carrito está dominada por productos de consumo básico(verduras, leche, frutas) y con alta fidelidad. Esto es muy revelador, ya que indica que la ausencia de este en el hogar desencadena la compra. Lo que significa que podemos utilizar estos productos para fomentar las ventas recurrentes y crear nuevos clientes recurrentes.\n",
    "\n",
    "Esto sugiere los productos con alta fidelidad actúan como anclas para la venta, en consecuencia:\n",
    "1. Podemos promocionarlos a los clientes con baja fidelidad, para aumentar la recurrencia y estimular compras mas frecuentes\n",
    "2. Podemos utilizar estos productos para fomentar la venta cruzada \n"
   ]
  },
  {
   "cell_type": "markdown",
   "id": "uITbFCEoDosC",
   "metadata": {
    "id": "uITbFCEoDosC"
   },
   "source": [
    "### Conclusion general del proyecto:"
   ]
  },
  {
   "cell_type": "markdown",
   "id": "Nk-4GS7mDwqY",
   "metadata": {
    "id": "Nk-4GS7mDwqY"
   },
   "source": [
    "Se realizo in análisis exhaustivo de los datos de ventas y productos de la empresa Instacart, con el objetivo de identificar patrones de consumo, niveles de fidelidad y oportunidades estratégicas para optimizar la recurrencia de los clientes y maximizar ingresos.\n",
    "\n",
    "A continuación, se resumen los principales hallazgos y sus implicaciones estratégicas para el negocio.”\n",
    "\n",
    "Se identifico que los días de venta mas fuertes son el domingo y lunes, durante el día las horas mas fuertes son la franja de 9 y 17h, lo que sugiere un patrón semanal de compras. Al analizar la recurrencia de compra por cliente descubrimos que los clientes se concentran en 3 grandes grupos; los que compran mensualmente, lo que lo hacen semanalmente y los que ordenan cada 3 o 4 días. También se identificó una clara baja en las compras durante los días laborales (exceptuando el lunes). Esto nos permite maximizar los gastos en publicidad en horarios de compra probable y no en horarios con pocas posibilidades.\n",
    "\n",
    "Al indagar en la distribución de pedidos por cliente se determinó que es importante centrar esfuerzos en los clientes nuevos con pocos pedidos, con el objetivo de generar una base de usuarios leales y así aumentar las ventas.\n",
    "Se identifico 2 tipos de cliente por el volumen de sus pedidos, minoristas con pedidos con menos de 40 productos y mayoristas los que superen este límite, esto nos permite dirigir la publicidad a estos grupos de manera personalizada para suplir sus necesidades individuales\n",
    "\n",
    "Al revisar en los productos vendidos y sus tasas de recompra se identificaron varios puntos clave para el negocio.  Los productos más vendidos son de la categoría frutas y verduras. La tasa de recompra promedio supera el 50% en los principales productos, lo que refleja una fuerte lealtad. No solo eso, si no que al revisar el orden del carrito se descubrió que estos productos y su escasez en el hogar es un gran detonante de compra. Esto los convierte en productos “ancla” que nos permiten desarrollar ciertas estrategias.\n",
    "Afianzar la fidelidad de los clientes\n",
    "\n",
    "* Empujar los productos “ancla” a clientes con baja fidelidad nos permitiría aumentar el numero de clientes fieles y fomentar la recurrencia\n",
    "1. Fomentar venta cruzada \n",
    "* Ofrecer paquetes o promociones para la categoría de frutas y verduras\n",
    "* Fomentar un estilo de vida saludable e incluir más productos afines\n",
    "* Promocionar las frutas y verduras más débiles del top y aquellas que no llegan a este\n",
    "    * Esto permitiría diversificar las ventas y reducir la dependencia de unos pocos productos líderes\n",
    "\n",
    "En conclusión, Instacar cuenta con productos de alta fidelidad que pueden servir para fomentar la recurrencia y generar clientes fieles y constantes. También se identificó comportamientos de compras que separan en grupos a los clientes. Aprovechar estas insights permitirá realizar campañas de marketing más efectivas centradas en fomentar la fidelidad.\n"
   ]
  }
 ],
 "metadata": {
  "colab": {
   "provenance": [
    {
     "file_id": "1aLGZ19-GYem3LZdYHuzuwYIeSw_tr0AT",
     "timestamp": 1689682143157
    }
   ]
  },
  "kernelspec": {
   "display_name": "Python 3 (ipykernel)",
   "language": "python",
   "name": "python3"
  },
  "language_info": {
   "name": "python"
  },
  "vscode": {
   "interpreter": {
    "hash": "01a7be9ec63e704a62cefc5fe7a4756944464ee731be31632bdf42a4cb4688cf"
   }
  }
 },
 "nbformat": 4,
 "nbformat_minor": 5
}
